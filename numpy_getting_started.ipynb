{
 "cells": [
  {
   "cell_type": "markdown",
   "id": "d541b22f-fc99-4382-9e39-06ada4814af2",
   "metadata": {},
   "source": [
    "# Welcome to Numpy - Numeric Computing Library in python"
   ]
  },
  {
   "cell_type": "code",
   "execution_count": 1,
   "id": "8ef63238-92ef-4368-85d8-a707985a0ee1",
   "metadata": {
    "editable": true,
    "slideshow": {
     "slide_type": ""
    },
    "tags": []
   },
   "outputs": [
    {
     "name": "stdout",
     "output_type": "stream",
     "text": [
      "Introduction to Numpy and python for data science in general\n"
     ]
    }
   ],
   "source": [
    "print('Introduction to Numpy and python for data science in general')"
   ]
  },
  {
   "cell_type": "code",
   "execution_count": 2,
   "id": "13a0df28-bc5a-4c88-9015-363a39cad883",
   "metadata": {
    "editable": true,
    "slideshow": {
     "slide_type": ""
    },
    "tags": []
   },
   "outputs": [
    {
     "name": "stdout",
     "output_type": "stream",
     "text": [
      "Numpy is a Python Numeric computing library\n"
     ]
    }
   ],
   "source": [
    "print('Numpy is a Python Numeric computing library')\n"
   ]
  },
  {
   "cell_type": "markdown",
   "id": "a09be06e-c4e4-4a62-ab83-e4ab4492a54b",
   "metadata": {},
   "source": [
    "## Install Numpy"
   ]
  },
  {
   "cell_type": "code",
   "execution_count": 3,
   "id": "cbcbaaab-f185-4831-98e1-857822171033",
   "metadata": {},
   "outputs": [
    {
     "name": "stdout",
     "output_type": "stream",
     "text": [
      "Defaulting to user installation because normal site-packages is not writeable\n",
      "Requirement already satisfied: numpy in /home/dukelester/.local/lib/python3.11/site-packages (1.24.3)\n"
     ]
    }
   ],
   "source": [
    "!pip install numpy"
   ]
  },
  {
   "cell_type": "code",
   "execution_count": 4,
   "id": "a9d40c41-dbe3-439b-936d-849189845a2e",
   "metadata": {},
   "outputs": [],
   "source": [
    "import sys\n",
    "import numpy as np"
   ]
  },
  {
   "cell_type": "code",
   "execution_count": 5,
   "id": "b40b9873-a370-4f3a-96d1-9f2b75801644",
   "metadata": {},
   "outputs": [
    {
     "name": "stdout",
     "output_type": "stream",
     "text": [
      "<class 'numpy.ndarray'>\n"
     ]
    }
   ],
   "source": [
    "data = np.array([89, 33, 45, 90])\n",
    "data\n",
    "print(type(data))"
   ]
  },
  {
   "cell_type": "markdown",
   "id": "7c27725a-2091-45bc-86a0-c57827850ade",
   "metadata": {},
   "source": [
    "## umPy arrays\n",
    "\n",
    "The NumPy array - an n-dimensional data structure - is the central object of the NumPy package.\n",
    "A one-dimensional NumPy array can be thought of as a vector, a two-dimensional array as a matrix (i.e., a set of vectors), \n",
    "and a three-dimensional array as a tensor (i.e., a set of matrices).\n",
    "\n",
    "## Array data types\n",
    "An array can consist of integers, floating-point numbers, or strings. Within an array, the data type must be consistent (e.g., all integers or all floats)."
   ]
  },
  {
   "cell_type": "code",
   "execution_count": 6,
   "id": "e1c96136-7b36-4703-ae31-695c8c01c7dd",
   "metadata": {
    "editable": true,
    "slideshow": {
     "slide_type": ""
    },
    "tags": []
   },
   "outputs": [
    {
     "data": {
      "text/plain": [
       "array([[100, 100, 100, 100, 100, 100, 100, 100, 100, 100],\n",
       "       [100, 100, 100, 100, 100, 100, 100, 100, 100, 100],\n",
       "       [100, 100, 100, 100, 100, 100, 100, 100, 100, 100],\n",
       "       [100, 100, 100, 100, 100, 100, 100, 100, 100, 100],\n",
       "       [100, 100, 100, 100, 100, 100, 100, 100, 100, 100]])"
      ]
     },
     "execution_count": 6,
     "metadata": {},
     "output_type": "execute_result"
    }
   ],
   "source": [
    "# Array definition\n",
    "\n",
    "np.array([\n",
    "    [23, 45, 56],\n",
    "    [90, 34, 78]\n",
    "])\n",
    "\n",
    "vector: list = np.arange(1, 5)\n",
    "vector\n",
    "\n",
    "zeros_array = np.zeros((1, 10))\n",
    "zeros_array\n",
    "\n",
    "ones_array = np.ones((2, 10))\n",
    "ones_array\n",
    "\n",
    "full_array = np.full((5, 10), 100)\n",
    "full_array"
   ]
  },
  {
   "cell_type": "code",
   "execution_count": 7,
   "id": "7221b26a-bd99-49a9-abe2-3501f0ae87c1",
   "metadata": {},
   "outputs": [
    {
     "data": {
      "text/plain": [
       "numpy.int8"
      ]
     },
     "execution_count": 7,
     "metadata": {},
     "output_type": "execute_result"
    }
   ],
   "source": [
    "# Shape\n",
    "\n",
    "shape = ones_array.shape\n",
    "shape\n",
    "full_array.dtype.type\n",
    "my_array = np.array([90, 78, 23, 34, 56], dtype='int8')\n",
    "my_array\n",
    "my_array.dtype.type"
   ]
  },
  {
   "cell_type": "code",
   "execution_count": 8,
   "id": "c5a2d689-a5b2-4fa3-99cd-48715e7e727a",
   "metadata": {},
   "outputs": [
    {
     "data": {
      "text/plain": [
       "56"
      ]
     },
     "execution_count": 8,
     "metadata": {},
     "output_type": "execute_result"
    }
   ],
   "source": [
    "# Access the elements from the array\n",
    "my_array[0]\n",
    "my_array[:2]\n",
    "my_array[2:4]\n",
    "my_array[-1]"
   ]
  },
  {
   "cell_type": "code",
   "execution_count": 9,
   "id": "965604b0-4b7a-4514-8499-30893ab35a04",
   "metadata": {},
   "outputs": [
    {
     "name": "stdout",
     "output_type": "stream",
     "text": [
      "data saved as binary\n"
     ]
    }
   ],
   "source": [
    "# Load data\n",
    "import csv\n",
    "\n",
    "data = []\n",
    "with open('Datasets/MER_T07_02A.csv', 'r') as csv_file:\n",
    "    file_reader = csv.reader(csv_file, delimiter=',')\n",
    "    for row in file_reader:\n",
    "        data.append(row)\n",
    "data = np.array(data)\n",
    "data\n",
    "data.shape\n",
    "data.dtype.type\n",
    "\n",
    "np.save(open('Datasets/my_data.npy', 'wb'), data)\n",
    "print('data saved as binary')"
   ]
  },
  {
   "cell_type": "code",
   "execution_count": 10,
   "id": "6b409abf-08d7-4443-97c4-0a4dff10fb01",
   "metadata": {},
   "outputs": [
    {
     "data": {
      "text/plain": [
       "array([['MSN', 'YYYYMM', 'Value', 'Column_Order', 'Description', 'Unit'],\n",
       "       ['CLETPUS', '194913', '135451.32', '1',\n",
       "        'Electricity Net Generation From Coal, All Sectors',\n",
       "        'Million Kilowatthours'],\n",
       "       ['CLETPUS', '195013', '154519.994', '1',\n",
       "        'Electricity Net Generation From Coal, All Sectors',\n",
       "        'Million Kilowatthours'],\n",
       "       ['CLETPUS', '195113', '185203.657', '1',\n",
       "        'Electricity Net Generation From Coal, All Sectors',\n",
       "        'Million Kilowatthours'],\n",
       "       ['CLETPUS', '195213', '195436.666', '1',\n",
       "        'Electricity Net Generation From Coal, All Sectors',\n",
       "        'Million Kilowatthours'],\n",
       "       ['CLETPUS', '195313', '218846.325', '1',\n",
       "        'Electricity Net Generation From Coal, All Sectors',\n",
       "        'Million Kilowatthours'],\n",
       "       ['CLETPUS', '195413', '239145.966', '1',\n",
       "        'Electricity Net Generation From Coal, All Sectors',\n",
       "        'Million Kilowatthours'],\n",
       "       ['CLETPUS', '195513', '301362.698', '1',\n",
       "        'Electricity Net Generation From Coal, All Sectors',\n",
       "        'Million Kilowatthours']], dtype='<U80')"
      ]
     },
     "execution_count": 10,
     "metadata": {},
     "output_type": "execute_result"
    }
   ],
   "source": [
    "data[:8]"
   ]
  },
  {
   "cell_type": "code",
   "execution_count": 11,
   "id": "84324ca5-5680-4deb-8b57-4246c6390c32",
   "metadata": {},
   "outputs": [
    {
     "data": {
      "text/plain": [
       "array([['Value', 'Column_Order'],\n",
       "       ['135451.32', '1'],\n",
       "       ['154519.994', '1'],\n",
       "       ...,\n",
       "       ['4243136.159', '13'],\n",
       "       ['347437.124', '13'],\n",
       "       ['310200.688', '13']], dtype='<U80')"
      ]
     },
     "execution_count": 11,
     "metadata": {},
     "output_type": "execute_result"
    }
   ],
   "source": [
    "data[:, 2:4]"
   ]
  },
  {
   "cell_type": "code",
   "execution_count": 12,
   "id": "15cbc6ee-b8dd-4d2c-943f-d8f5b7377854",
   "metadata": {},
   "outputs": [
    {
     "data": {
      "text/plain": [
       "array([['135451.32', '1'],\n",
       "       ['154519.994', '1'],\n",
       "       ['185203.657', '1'],\n",
       "       ['195436.666', '1'],\n",
       "       ['218846.325', '1']], dtype='<U80')"
      ]
     },
     "execution_count": 12,
     "metadata": {},
     "output_type": "execute_result"
    }
   ],
   "source": [
    "subset = data[1:6, [2, 3]]\n",
    "subset"
   ]
  },
  {
   "cell_type": "markdown",
   "id": "00d9b01e-6833-42f4-902d-9e9ec5d245c3",
   "metadata": {},
   "source": [
    "A mask array, also known as a logical array, contains boolean elements (i.e. True or False)."
   ]
  },
  {
   "cell_type": "code",
   "execution_count": 13,
   "id": "768058b5-e079-4d9a-816f-02d6c1019a98",
   "metadata": {},
   "outputs": [
    {
     "data": {
      "text/plain": [
       "array([['154519.994', '1'],\n",
       "       ['195436.666', '1'],\n",
       "       ['218846.325', '1']], dtype='<U80')"
      ]
     },
     "execution_count": 13,
     "metadata": {},
     "output_type": "execute_result"
    }
   ],
   "source": [
    "mask_array = np.array([False, True, False, True, True])\n",
    "subset[mask_array]"
   ]
  },
  {
   "cell_type": "code",
   "execution_count": 14,
   "id": "d10870c6-4568-4f16-875f-6759b3ffb997",
   "metadata": {},
   "outputs": [
    {
     "data": {
      "text/plain": [
       "array([['135451.32', '1'],\n",
       "       ['218846.325', '1']], dtype='<U80')"
      ]
     },
     "execution_count": 14,
     "metadata": {},
     "output_type": "execute_result"
    }
   ],
   "source": [
    "new_mask_array = np.array([True, False, False, False, True])\n",
    "subset[new_mask_array]"
   ]
  },
  {
   "cell_type": "markdown",
   "id": "94f0d2e5-3dbc-4f04-a33f-b7bb4627e9d6",
   "metadata": {},
   "source": [
    "the mask array retained the rows corresponding to True and the excluded the ones corresponding to False. It is worth noting that a similar approach is used for indexing pandas dataframes.\n",
    "\n",
    "Masking is a powerful tool that allows us to index elements based on logical expressions. "
   ]
  },
  {
   "cell_type": "markdown",
   "id": "7fb2aa80-c916-4323-a6ca-2edf29e8fce3",
   "metadata": {},
   "source": [
    "## Concatenating"
   ]
  },
  {
   "cell_type": "code",
   "execution_count": 15,
   "id": "1de677b6-c45d-47c8-8d36-44481a74ce7b",
   "metadata": {},
   "outputs": [
    {
     "data": {
      "text/plain": [
       "array([['MSN', 'YYYYMM', 'Value', 'Column_Order', 'Description', 'Unit'],\n",
       "       ['CLETPUS', '194913', '135451.32', '1',\n",
       "        'Electricity Net Generation From Coal, All Sectors',\n",
       "        'Million Kilowatthours'],\n",
       "       ['CLETPUS', '195013', '154519.994', '1',\n",
       "        'Electricity Net Generation From Coal, All Sectors',\n",
       "        'Million Kilowatthours']], dtype='<U80')"
      ]
     },
     "execution_count": 15,
     "metadata": {},
     "output_type": "execute_result"
    }
   ],
   "source": [
    "start_3_rows_array = data[:3, :]\n",
    "start_3_rows_array"
   ]
  },
  {
   "cell_type": "code",
   "execution_count": 16,
   "id": "eeba362f-4b16-406c-b52d-6cfd25230186",
   "metadata": {},
   "outputs": [
    {
     "data": {
      "text/plain": [
       "array([['ELETPUS', '202213', '4243136.159', '13',\n",
       "        'Electricity Net Generation Total (including from sources not shown), All Sectors',\n",
       "        'Million Kilowatthours'],\n",
       "       ['ELETPUS', '202301', '347437.124', '13',\n",
       "        'Electricity Net Generation Total (including from sources not shown), All Sectors',\n",
       "        'Million Kilowatthours'],\n",
       "       ['ELETPUS', '202302', '310200.688', '13',\n",
       "        'Electricity Net Generation Total (including from sources not shown), All Sectors',\n",
       "        'Million Kilowatthours']], dtype='<U80')"
      ]
     },
     "execution_count": 16,
     "metadata": {},
     "output_type": "execute_result"
    }
   ],
   "source": [
    "end_3_rows_array = data[-3:, :]\n",
    "end_3_rows_array"
   ]
  },
  {
   "cell_type": "markdown",
   "id": "edde7268-fa37-425a-8df6-0ee5575de285",
   "metadata": {},
   "source": [
    "To `concatenate` these arrays we can use `np.vstack`, where the v denotes vertical, or row-wise, stacking of the sub-arrays:\n",
    "The horizontal counterpart of `np.vstack()` is `np.hstack()`, which combines sub-arrays column-wise. For higher dimensional joins, the most common function is `np.concatenate()`. The syntax for this function is similar to the 2D versions, with the additional requirement of specifying the axis along which concatenation should be performed.\n",
    "\n",
    "Calling `np.concatenate((array_start, array_end), axis = 0)` would generate identical output to using `np.vstack()`. Axis=1 would generate identical output to using `np.hstack()`."
   ]
  },
  {
   "cell_type": "code",
   "execution_count": 17,
   "id": "7f897b24-6e23-4c9c-a4e8-6455a400419c",
   "metadata": {},
   "outputs": [
    {
     "data": {
      "text/plain": [
       "array([['MSN', 'YYYYMM', 'Value', 'Column_Order', 'Description', 'Unit'],\n",
       "       ['CLETPUS', '194913', '135451.32', '1',\n",
       "        'Electricity Net Generation From Coal, All Sectors',\n",
       "        'Million Kilowatthours'],\n",
       "       ['CLETPUS', '195013', '154519.994', '1',\n",
       "        'Electricity Net Generation From Coal, All Sectors',\n",
       "        'Million Kilowatthours'],\n",
       "       ['ELETPUS', '202213', '4243136.159', '13',\n",
       "        'Electricity Net Generation Total (including from sources not shown), All Sectors',\n",
       "        'Million Kilowatthours'],\n",
       "       ['ELETPUS', '202301', '347437.124', '13',\n",
       "        'Electricity Net Generation Total (including from sources not shown), All Sectors',\n",
       "        'Million Kilowatthours'],\n",
       "       ['ELETPUS', '202302', '310200.688', '13',\n",
       "        'Electricity Net Generation Total (including from sources not shown), All Sectors',\n",
       "        'Million Kilowatthours']], dtype='<U80')"
      ]
     },
     "execution_count": 17,
     "metadata": {},
     "output_type": "execute_result"
    }
   ],
   "source": [
    "joined = np.vstack((start_3_rows_array, end_3_rows_array))\n",
    "joined"
   ]
  },
  {
   "cell_type": "code",
   "execution_count": 18,
   "id": "39a3fd33-43d7-4b2c-8d3f-1636456ffe5a",
   "metadata": {},
   "outputs": [
    {
     "data": {
      "text/plain": [
       "array([['MSN', 'YYYYMM', 'Value', 'Column_Order', 'Description', 'Unit',\n",
       "        'ELETPUS', '202213', '4243136.159', '13',\n",
       "        'Electricity Net Generation Total (including from sources not shown), All Sectors',\n",
       "        'Million Kilowatthours'],\n",
       "       ['CLETPUS', '194913', '135451.32', '1',\n",
       "        'Electricity Net Generation From Coal, All Sectors',\n",
       "        'Million Kilowatthours', 'ELETPUS', '202301', '347437.124', '13',\n",
       "        'Electricity Net Generation Total (including from sources not shown), All Sectors',\n",
       "        'Million Kilowatthours'],\n",
       "       ['CLETPUS', '195013', '154519.994', '1',\n",
       "        'Electricity Net Generation From Coal, All Sectors',\n",
       "        'Million Kilowatthours', 'ELETPUS', '202302', '310200.688', '13',\n",
       "        'Electricity Net Generation Total (including from sources not shown), All Sectors',\n",
       "        'Million Kilowatthours']], dtype='<U80')"
      ]
     },
     "execution_count": 18,
     "metadata": {},
     "output_type": "execute_result"
    }
   ],
   "source": [
    "joined_colomnwise = np.hstack((start_3_rows_array, end_3_rows_array))\n",
    "joined_colomnwise"
   ]
  },
  {
   "cell_type": "code",
   "execution_count": 19,
   "id": "97a07f3e-944d-4a5a-92f1-363642203fd5",
   "metadata": {},
   "outputs": [
    {
     "data": {
      "text/plain": [
       "array([['MSN', 'YYYYMM', 'Value', 'Column_Order', 'Description', 'Unit'],\n",
       "       ['CLETPUS', '194913', '135451.32', '1',\n",
       "        'Electricity Net Generation From Coal, All Sectors',\n",
       "        'Million Kilowatthours'],\n",
       "       ['CLETPUS', '195013', '154519.994', '1',\n",
       "        'Electricity Net Generation From Coal, All Sectors',\n",
       "        'Million Kilowatthours'],\n",
       "       ['ELETPUS', '202213', '4243136.159', '13',\n",
       "        'Electricity Net Generation Total (including from sources not shown), All Sectors',\n",
       "        'Million Kilowatthours'],\n",
       "       ['ELETPUS', '202301', '347437.124', '13',\n",
       "        'Electricity Net Generation Total (including from sources not shown), All Sectors',\n",
       "        'Million Kilowatthours'],\n",
       "       ['ELETPUS', '202302', '310200.688', '13',\n",
       "        'Electricity Net Generation Total (including from sources not shown), All Sectors',\n",
       "        'Million Kilowatthours']], dtype='<U80')"
      ]
     },
     "execution_count": 19,
     "metadata": {},
     "output_type": "execute_result"
    }
   ],
   "source": [
    "concat_vertical = np.concatenate((start_3_rows_array, end_3_rows_array), axis=0)\n",
    "concat_vertical"
   ]
  },
  {
   "cell_type": "code",
   "execution_count": 20,
   "id": "f57a55ce-6616-44d9-b161-0f4207a3dae0",
   "metadata": {},
   "outputs": [
    {
     "data": {
      "text/plain": [
       "array([['MSN', 'YYYYMM', 'Value', 'Column_Order', 'Description', 'Unit',\n",
       "        'ELETPUS', '202213', '4243136.159', '13',\n",
       "        'Electricity Net Generation Total (including from sources not shown), All Sectors',\n",
       "        'Million Kilowatthours'],\n",
       "       ['CLETPUS', '194913', '135451.32', '1',\n",
       "        'Electricity Net Generation From Coal, All Sectors',\n",
       "        'Million Kilowatthours', 'ELETPUS', '202301', '347437.124', '13',\n",
       "        'Electricity Net Generation Total (including from sources not shown), All Sectors',\n",
       "        'Million Kilowatthours'],\n",
       "       ['CLETPUS', '195013', '154519.994', '1',\n",
       "        'Electricity Net Generation From Coal, All Sectors',\n",
       "        'Million Kilowatthours', 'ELETPUS', '202302', '310200.688', '13',\n",
       "        'Electricity Net Generation Total (including from sources not shown), All Sectors',\n",
       "        'Million Kilowatthours']], dtype='<U80')"
      ]
     },
     "execution_count": 20,
     "metadata": {},
     "output_type": "execute_result"
    }
   ],
   "source": [
    "concat_horizontal = np.concatenate((start_3_rows_array, end_3_rows_array), axis=1)\n",
    "concat_horizontal"
   ]
  },
  {
   "cell_type": "markdown",
   "id": "237ca1cd-2da7-475c-a56d-97d1adfbc4ad",
   "metadata": {},
   "source": [
    "## Splitting\n",
    "\n",
    "The opposite of concatenating (i.e., joining) arrays is splitting them. To split an array, NumPy provides the following commands:\n",
    "\n",
    "hsplit: splits along the horizontal axis\n",
    "vsplit: splits along the vertical axis\n",
    "dsplit: Splits an array along the 3rd axis (depth)\n",
    "array_split: lets you specify the axis to use in splitting"
   ]
  },
  {
   "cell_type": "code",
   "execution_count": 21,
   "id": "63e016cb-3a5d-4215-b2f2-81c3fbf1440e",
   "metadata": {},
   "outputs": [
    {
     "data": {
      "text/plain": [
       "[array([['MSN'],\n",
       "        ['CLETPUS'],\n",
       "        ['CLETPUS'],\n",
       "        ...,\n",
       "        ['ELETPUS'],\n",
       "        ['ELETPUS'],\n",
       "        ['ELETPUS']], dtype='<U80'),\n",
       " array([['YYYYMM', 'Value', 'Column_Order', 'Description', 'Unit'],\n",
       "        ['194913', '135451.32', '1',\n",
       "         'Electricity Net Generation From Coal, All Sectors',\n",
       "         'Million Kilowatthours'],\n",
       "        ['195013', '154519.994', '1',\n",
       "         'Electricity Net Generation From Coal, All Sectors',\n",
       "         'Million Kilowatthours'],\n",
       "        ...,\n",
       "        ['202213', '4243136.159', '13',\n",
       "         'Electricity Net Generation Total (including from sources not shown), All Sectors',\n",
       "         'Million Kilowatthours'],\n",
       "        ['202301', '347437.124', '13',\n",
       "         'Electricity Net Generation Total (including from sources not shown), All Sectors',\n",
       "         'Million Kilowatthours'],\n",
       "        ['202302', '310200.688', '13',\n",
       "         'Electricity Net Generation Total (including from sources not shown), All Sectors',\n",
       "         'Million Kilowatthours']], dtype='<U80'),\n",
       " array([], shape=(8789, 0), dtype='<U80')]"
      ]
     },
     "execution_count": 21,
     "metadata": {},
     "output_type": "execute_result"
    }
   ],
   "source": [
    "h_split = np.hsplit(data, (2, 3))\n",
    "h_split\n",
    "v_split = np.vsplit(data, (1, 4))\n",
    "v_split\n",
    "# d_split = np.dsplit(data, (2, 5))\n",
    "# d_split\n",
    "split_array = np.array_split(data, (1, 6), axis=1)\n",
    "split_array"
   ]
  },
  {
   "cell_type": "markdown",
   "id": "147190ee-e659-44eb-b2fc-3f61c2cfac6a",
   "metadata": {},
   "source": [
    "## Adding/Removing Elements\n",
    "\n",
    "NumPy provides several functions for adding or deleting data from an array:\n",
    "\n",
    "resize: Returns a new array with the specified shape, with zeros as placeholders in all the new cells.\n",
    "append: Adds values to the end of an array\n",
    "insert: Adds values in the middle of an array\n",
    "delete: Returns a new array with given data removed\n",
    "unique: Finds only the unique values of an array\n"
   ]
  },
  {
   "cell_type": "code",
   "execution_count": 22,
   "id": "91231a7a-bd65-4cc4-8fd3-2cb6d8b4bb20",
   "metadata": {},
   "outputs": [
    {
     "data": {
      "text/plain": [
       "array(['1', '135451.32', '154519.994', '185203.657', '195436.666',\n",
       "       '218846.325'], dtype='<U80')"
      ]
     },
     "execution_count": 22,
     "metadata": {},
     "output_type": "execute_result"
    }
   ],
   "source": [
    "resized = np.resize(data, (10, 7090))\n",
    "resized\n",
    "\n",
    "np.append(subset, 'duke lester')\n",
    "np.insert(subset, 2, 'Lester dlester is here')\n",
    "np.delete(subset, 2)\n",
    "np.unique(subset)"
   ]
  },
  {
   "cell_type": "markdown",
   "id": "49b43cd3-7ea7-44d2-9b15-efc6ea175d1a",
   "metadata": {},
   "source": [
    "## Sorting\n",
    "\n",
    "There are several useful functions for sorting array elements. \n",
    "Some of the available sorting algorithms include `quicksort`, `heapsort`, `mergesort`, and `timesort`."
   ]
  },
  {
   "cell_type": "code",
   "execution_count": 23,
   "id": "0bdbcac6-4320-4977-bb2e-26f5c99df6de",
   "metadata": {},
   "outputs": [
    {
     "data": {
      "text/plain": [
       "array([[12, 34, 35, 70, 80, 89],\n",
       "       [23, 34, 36, 67, 90, 98]])"
      ]
     },
     "execution_count": 23,
     "metadata": {},
     "output_type": "execute_result"
    }
   ],
   "source": [
    "marks = np.array([[34, 89, 12, 70, 35, 80], [90, 34, 67, 23, 98, 36]])\n",
    "column_sort = np.sort(marks, axis=1, kind='mergesort') # column sort\n",
    "column_sort\n",
    "np.sort(marks, axis=1, kind='heapsort')\n",
    "np.sort(marks, axis=1, kind='quicksort')"
   ]
  },
  {
   "cell_type": "code",
   "execution_count": 24,
   "id": "4fac6513-8daa-407d-93a9-3463539b26a1",
   "metadata": {},
   "outputs": [
    {
     "data": {
      "text/plain": [
       "array([['MSN', 'YYYYMM', 'Value', 'Column_Order', 'Description', 'Unit'],\n",
       "       ['CLETPUS', '194913', '135451.32', '1',\n",
       "        'Electricity Net Generation From Coal, All Sectors',\n",
       "        'Million Kilowatthours'],\n",
       "       ['CLETPUS', '195013', '154519.994', '1',\n",
       "        'Electricity Net Generation From Coal, All Sectors',\n",
       "        'Million Kilowatthours'],\n",
       "       ...,\n",
       "       ['ELETPUS', '202213', '4243136.159', '13',\n",
       "        'Electricity Net Generation Total (including from sources not shown), All Sectors',\n",
       "        'Million Kilowatthours'],\n",
       "       ['ELETPUS', '202301', '347437.124', '13',\n",
       "        'Electricity Net Generation Total (including from sources not shown), All Sectors',\n",
       "        'Million Kilowatthours'],\n",
       "       ['ELETPUS', '202302', '310200.688', '13',\n",
       "        'Electricity Net Generation Total (including from sources not shown), All Sectors',\n",
       "        'Million Kilowatthours']], dtype='<U80')"
      ]
     },
     "execution_count": 24,
     "metadata": {},
     "output_type": "execute_result"
    }
   ],
   "source": [
    "# copy\n",
    "\n",
    "my_data = np.copy(data)\n",
    "my_data"
   ]
  },
  {
   "cell_type": "markdown",
   "id": "58286f7a-549c-40a2-abc1-0c6c497205d4",
   "metadata": {},
   "source": [
    "## Array Broadcasting \n",
    "\n",
    "=> Array operations and calculations (inner product, scalar addition, subtraction, divisiom an multiplication)\n"
   ]
  },
  {
   "cell_type": "code",
   "execution_count": 25,
   "id": "4d3cf499-c0ff-4ca2-9c48-76fb63ff3cc9",
   "metadata": {},
   "outputs": [
    {
     "data": {
      "text/plain": [
       "array([[1156, 7921,  144, 4900, 1225, 6400],\n",
       "       [8100, 1156, 4489,  529, 9604, 1296]])"
      ]
     },
     "execution_count": 25,
     "metadata": {},
     "output_type": "execute_result"
    }
   ],
   "source": [
    "# Broadcasting => Array operations and calculations (inner product, scalar addition, subtraction, divisiom an multiplication)\n",
    "\n",
    "marks + 30 - 10\n",
    "marks * 3\n",
    "marks / 2\n",
    "marks + marks\n",
    "marks * marks"
   ]
  },
  {
   "cell_type": "markdown",
   "id": "19f09642-7e0c-4605-8a5d-c4d3a1cca930",
   "metadata": {},
   "source": [
    "## Vectorization\n",
    "Vectorization is the process of modifying code to utilize array operation methods. Array operations can be computed internally by NumPy using a lower-level language, which leads to many benefits:\n",
    "\n",
    "1. Vectorized code tends to execute much faster than equivalent code that uses loops (such as for-loops and while-loops). Usually a lot faster. Therefore, vectorization can be very important for machine learning, where we often work with large datasets\n",
    "2. Vectorized code can often be more compact. Having fewer lines of code to write can potentially speed-up the code-writing process, make code more readable, and reduce the risk of errors"
   ]
  },
  {
   "cell_type": "code",
   "execution_count": 26,
   "id": "2e87c0e3-78a4-4cb6-82cc-006e0360c0c9",
   "metadata": {},
   "outputs": [
    {
     "name": "stdout",
     "output_type": "stream",
     "text": [
      "my first array is [ 1  2  3  4  5  6  7  8  9 10 11 12 13 14 15 16 17 18 19 20 21 22 23 24\n",
      " 25 26 27 28 29 30 31 32 33 34 35 36 37 38 39 40 41 42 43 44 45 46 47 48\n",
      " 49 50]\n",
      "my second array is [ 51  52  53  54  55  56  57  58  59  60  61  62  63  64  65  66  67  68\n",
      "  69  70  71  72  73  74  75  76  77  78  79  80  81  82  83  84  85  86\n",
      "  87  88  89  90  91  92  93  94  95  96  97  98  99 100]\n"
     ]
    }
   ],
   "source": [
    "# Example\n",
    "arr1 = np.arange(1, 51)\n",
    "arr2 = np.arange(51, 101)\n",
    "print(f'my first array is {arr1}')\n",
    "print(f'my second array is {arr2}')"
   ]
  },
  {
   "cell_type": "code",
   "execution_count": 27,
   "id": "33a47064-5535-4bb6-bf77-8621c16f4c8f",
   "metadata": {},
   "outputs": [],
   "source": [
    "def non_vectorized_output(array1, array2):\n",
    "    output = []\n",
    "    for i in range(len(array1)):\n",
    "        output.append(array1[i] * array2[i])\n",
    "    return output\n"
   ]
  },
  {
   "cell_type": "code",
   "execution_count": 28,
   "id": "4d814d70-87b0-4018-8ac8-73a4c2d0a23d",
   "metadata": {},
   "outputs": [
    {
     "name": "stdout",
     "output_type": "stream",
     "text": [
      "[51, 104, 159, 216, 275, 336, 399, 464, 531, 600, 671, 744, 819, 896, 975, 1056, 1139, 1224, 1311, 1400, 1491, 1584, 1679, 1776, 1875, 1976, 2079, 2184, 2291, 2400, 2511, 2624, 2739, 2856, 2975, 3096, 3219, 3344, 3471, 3600, 3731, 3864, 3999, 4136, 4275, 4416, 4559, 4704, 4851, 5000]\n"
     ]
    }
   ],
   "source": [
    "print(non_vectorized_output(arr1, arr2))"
   ]
  },
  {
   "cell_type": "code",
   "execution_count": 29,
   "id": "1c7c4e5b-9159-401c-9581-c9f19b67eec3",
   "metadata": {},
   "outputs": [
    {
     "name": "stdout",
     "output_type": "stream",
     "text": [
      "20.1 µs ± 1.82 µs per loop (mean ± std. dev. of 7 runs, 100,000 loops each)\n"
     ]
    },
    {
     "data": {
      "text/plain": [
       "<TimeitResult : 20.1 µs ± 1.82 µs per loop (mean ± std. dev. of 7 runs, 100,000 loops each)>"
      ]
     },
     "execution_count": 29,
     "metadata": {},
     "output_type": "execute_result"
    }
   ],
   "source": [
    "nv_time = %timeit -o  non_vectorized_output(arr1, arr2)\n",
    "nv_time"
   ]
  },
  {
   "cell_type": "code",
   "execution_count": 30,
   "id": "6e8aa992-73bf-4155-b7d2-9765c3368218",
   "metadata": {},
   "outputs": [],
   "source": [
    "def vectorized_output(array1, array2):\n",
    "    return array1 * array2"
   ]
  },
  {
   "cell_type": "code",
   "execution_count": 31,
   "id": "c7869e6a-6e0f-41f4-9f6a-7916968aec43",
   "metadata": {},
   "outputs": [
    {
     "name": "stdout",
     "output_type": "stream",
     "text": [
      "[  51  104  159  216  275  336  399  464  531  600  671  744  819  896\n",
      "  975 1056 1139 1224 1311 1400 1491 1584 1679 1776 1875 1976 2079 2184\n",
      " 2291 2400 2511 2624 2739 2856 2975 3096 3219 3344 3471 3600 3731 3864\n",
      " 3999 4136 4275 4416 4559 4704 4851 5000]\n"
     ]
    }
   ],
   "source": [
    "print(vectorized_output(arr1, arr2))"
   ]
  },
  {
   "cell_type": "code",
   "execution_count": 32,
   "id": "6bd4244f-5faf-46d1-a791-6b9e04dc1060",
   "metadata": {},
   "outputs": [
    {
     "name": "stdout",
     "output_type": "stream",
     "text": [
      "1.24 µs ± 210 ns per loop (mean ± std. dev. of 7 runs, 1,000,000 loops each)\n"
     ]
    },
    {
     "data": {
      "text/plain": [
       "<TimeitResult : 1.24 µs ± 210 ns per loop (mean ± std. dev. of 7 runs, 1,000,000 loops each)>"
      ]
     },
     "execution_count": 32,
     "metadata": {},
     "output_type": "execute_result"
    }
   ],
   "source": [
    "vectorized_time = %timeit -o vectorized_output(arr1, arr2)\n",
    "vectorized_time"
   ]
  },
  {
   "cell_type": "code",
   "execution_count": 33,
   "id": "a03f5ba5-a2f4-4c2b-aff1-6cacb0f7a709",
   "metadata": {},
   "outputs": [
    {
     "name": "stdout",
     "output_type": "stream",
     "text": [
      "Non-vectorized version: 20.05 microseconds per execution, average\n",
      "Vectorized version: 1.24 microseconds per execution, average\n",
      "Computation was 16 times faster using vectorization\n"
     ]
    }
   ],
   "source": [
    "print('Non-vectorized version:', f'{1E6 * nv_time.average:0.2f}', 'microseconds per execution, average')\n",
    "\n",
    "print('Vectorized version:', f'{1E6 * vectorized_time.average:0.2f}', 'microseconds per execution, average')\n",
    "\n",
    "print('Computation was', \"%.0f\" % (nv_time.average / vectorized_time.average), 'times faster using vectorization')"
   ]
  },
  {
   "cell_type": "code",
   "execution_count": 34,
   "id": "939911b4-c840-4754-a7e5-5aa3c7977d2b",
   "metadata": {},
   "outputs": [
    {
     "name": "stdout",
     "output_type": "stream",
     "text": [
      "[[ 1  2  3  4]\n",
      " [ 5  6  7  8]\n",
      " [ 9 10 11 12]\n",
      " [13 14 15 16]\n",
      " [17 18 19 20]\n",
      " [21 22 23 24]\n",
      " [25 26 27 28]\n",
      " [29 30 31 32]\n",
      " [33 34 35 36]\n",
      " [37 38 39 40]]\n",
      "[[ 1  1  2  3  4]\n",
      " [ 1  5  6  7  8]\n",
      " [ 1  9 10 11 12]\n",
      " [ 1 13 14 15 16]\n",
      " [ 1 17 18 19 20]\n",
      " [ 1 21 22 23 24]\n",
      " [ 1 25 26 27 28]\n",
      " [ 1 29 30 31 32]\n",
      " [ 1 33 34 35 36]\n",
      " [ 1 37 38 39 40]]\n"
     ]
    }
   ],
   "source": [
    "my_data_matrix = np.arange(1, 41).reshape(10, 4)\n",
    "print(my_data_matrix)\n",
    "ones = np.full((10, 1), 1)  # The bias term\n",
    "updated_data_matrix = np.hstack((ones, my_data_matrix)) # horizontally stacked infront of the array\n",
    "print(updated_data_matrix)"
   ]
  },
  {
   "cell_type": "code",
   "execution_count": 35,
   "id": "0e5ab501-f758-4616-9f31-b6a52a125500",
   "metadata": {},
   "outputs": [
    {
     "name": "stdout",
     "output_type": "stream",
     "text": [
      " My theta is [[1]\n",
      " [2]\n",
      " [3]\n",
      " [4]\n",
      " [5]]\n"
     ]
    }
   ],
   "source": [
    "theta = np.arange(1, 6).reshape(5, 1) # Vector\n",
    "print(f' My theta is {theta}')"
   ]
  },
  {
   "cell_type": "code",
   "execution_count": 36,
   "id": "9a79fe14-81e2-40b1-a299-41d077c65571",
   "metadata": {},
   "outputs": [],
   "source": [
    "def non_vectorized_output(data, theta):\n",
    "    h = []\n",
    "    for x in range(data.shape[0]):\n",
    "        total = 0\n",
    "        for y in range(data.shape[1]):\n",
    "            total = total + data[x, y] * theta[y, 0]\n",
    "        h.append(total)\n",
    "    return h"
   ]
  },
  {
   "cell_type": "code",
   "execution_count": 37,
   "id": "d8bf1262-17b8-40bd-8c29-9b7d8cb124d7",
   "metadata": {},
   "outputs": [
    {
     "name": "stdout",
     "output_type": "stream",
     "text": [
      "My new weights [41, 97, 153, 209, 265, 321, 377, 433, 489, 545]\n"
     ]
    }
   ],
   "source": [
    "result = non_vectorized_output(updated_data_matrix, theta)\n",
    "print(f'My new weights {result}')"
   ]
  },
  {
   "cell_type": "code",
   "execution_count": 38,
   "id": "bad5662f-fd02-49dc-9a5a-9ffbf2b360d1",
   "metadata": {},
   "outputs": [],
   "source": [
    "#Vectorized version\n",
    "\n",
    "def vectorized_output(data, theta):\n",
    "    result = np.matmul(data, theta)  # NumPy's matrix multiplication function\n",
    "    return result"
   ]
  },
  {
   "cell_type": "code",
   "execution_count": 39,
   "id": "cd5f01a9-1884-4107-8619-521db630f218",
   "metadata": {},
   "outputs": [
    {
     "name": "stdout",
     "output_type": "stream",
     "text": [
      "My vectorized result is [[ 41]\n",
      " [ 97]\n",
      " [153]\n",
      " [209]\n",
      " [265]\n",
      " [321]\n",
      " [377]\n",
      " [433]\n",
      " [489]\n",
      " [545]]\n"
     ]
    }
   ],
   "source": [
    "my_result = vectorized_output(updated_data_matrix, theta)\n",
    "print(f'My vectorized result is {my_result}')"
   ]
  },
  {
   "cell_type": "code",
   "execution_count": 40,
   "id": "a8c1ab82-fdc7-42b9-ad17-6a55bad27417",
   "metadata": {},
   "outputs": [],
   "source": [
    "# non_vectorized_time = %timeit -o non_vectorized_output(data, theta)\n",
    "# non_vectorized_time"
   ]
  },
  {
   "cell_type": "code",
   "execution_count": 41,
   "id": "9202e5f6-6422-4cac-a3e1-2a9dad4fd6dd",
   "metadata": {},
   "outputs": [
    {
     "name": "stdout",
     "output_type": "stream",
     "text": [
      "Defaulting to user installation because normal site-packages is not writeable\n",
      "Requirement already satisfied: matplotlib in /home/dukelester/.local/lib/python3.11/site-packages (3.7.1)\n",
      "Requirement already satisfied: contourpy>=1.0.1 in /home/dukelester/.local/lib/python3.11/site-packages (from matplotlib) (1.1.0)\n",
      "Requirement already satisfied: cycler>=0.10 in /home/dukelester/.local/lib/python3.11/site-packages (from matplotlib) (0.11.0)\n",
      "Requirement already satisfied: fonttools>=4.22.0 in /home/dukelester/.local/lib/python3.11/site-packages (from matplotlib) (4.40.0)\n",
      "Requirement already satisfied: kiwisolver>=1.0.1 in /home/dukelester/.local/lib/python3.11/site-packages (from matplotlib) (1.4.4)\n",
      "Requirement already satisfied: numpy>=1.20 in /home/dukelester/.local/lib/python3.11/site-packages (from matplotlib) (1.24.3)\n",
      "Requirement already satisfied: packaging>=20.0 in /usr/lib/python3.11/site-packages (from matplotlib) (23.1)\n",
      "Requirement already satisfied: pillow>=6.2.0 in /usr/lib/python3.11/site-packages (from matplotlib) (9.5.0)\n",
      "Requirement already satisfied: pyparsing>=2.3.1 in /home/dukelester/.local/lib/python3.11/site-packages (from matplotlib) (3.1.0)\n",
      "Requirement already satisfied: python-dateutil>=2.7 in /usr/lib/python3.11/site-packages (from matplotlib) (2.8.2)\n",
      "Requirement already satisfied: six>=1.5 in /usr/lib/python3.11/site-packages (from python-dateutil>=2.7->matplotlib) (1.16.0)\n"
     ]
    }
   ],
   "source": [
    "!pip install matplotlib"
   ]
  },
  {
   "cell_type": "markdown",
   "id": "306e2c78-289e-4e5a-adcf-d41be033329f",
   "metadata": {},
   "source": [
    "## Pseudo-random number generation\n",
    "Being able to generate pseudo-random numbers is often necessary in data science applications. Examples include modeling system noise and Monte Carlo simulations."
   ]
  },
  {
   "cell_type": "code",
   "execution_count": 42,
   "id": "03336be0-5ec4-487d-abb5-ffd91be25ed9",
   "metadata": {},
   "outputs": [],
   "source": [
    "import matplotlib.pyplot as plt\n",
    "import matplotlib"
   ]
  },
  {
   "cell_type": "code",
   "execution_count": 43,
   "id": "7d4a18e9-021f-40ef-9a63-a2b14617d934",
   "metadata": {},
   "outputs": [],
   "source": [
    "matplotlib.rcParams.update({'font.size': 16,\n",
    "                           'figure.figsize': [10, 6],\n",
    "                           'lines.markersize': 6})"
   ]
  },
  {
   "cell_type": "code",
   "execution_count": 45,
   "id": "80a401de-a4c3-4241-aaa8-9d4964921706",
   "metadata": {},
   "outputs": [
    {
     "name": "stdout",
     "output_type": "stream",
     "text": [
      "[0.06230789 0.69790601 0.82144711 0.50473785 0.71176603 0.49513933\n",
      " 0.13116957 0.73278233 0.54072953 0.58714557 0.66413062 0.25792969\n",
      " 0.13642866 0.91267014 0.50349085 0.26789133 0.31861051 0.42370039\n",
      " 0.85092873 0.53636826 0.59849092 0.99991809 0.38027851 0.72196736\n",
      " 0.47352904 0.75820627 0.08458045 0.84518903 0.49893892 0.09689152\n",
      " 0.0138227  0.33167839 0.35531368 0.90997079 0.99782338 0.0784326\n",
      " 0.92414252 0.76568909 0.61378754 0.45152421 0.4404595  0.43302493\n",
      " 0.8555493  0.26319752 0.41785171 0.51781134 0.36905765 0.78837385\n",
      " 0.00951844 0.80745701 0.53171091 0.18788846 0.86721981 0.79112922\n",
      " 0.52034242 0.75393305 0.69821565 0.98541292 0.20194729 0.84908327\n",
      " 0.29089725 0.97364989 0.33583866 0.62976274 0.70253105 0.28619931\n",
      " 0.4294959  0.56406324 0.38494107 0.66990964 0.89858938 0.53410459\n",
      " 0.904249   0.69119024 0.00982439 0.87154386 0.21491506 0.38868839\n",
      " 0.41279444 0.75249211 0.82336886 0.88653874 0.94570768 0.80431812\n",
      " 0.04094079 0.92236711 0.90982266 0.58504213 0.69613556 0.02336944\n",
      " 0.57060185 0.80941721 0.7125533  0.74473645 0.70456655 0.69333591\n",
      " 0.89213202 0.8399928  0.34664751 0.58590357 0.86453783 0.44992544\n",
      " 0.73560565 0.60559203 0.88430808 0.19679043 0.53606392 0.00111074\n",
      " 0.88536418 0.88684223 0.83151016 0.32794667 0.2644861  0.84165447\n",
      " 0.81528612 0.50219849 0.3338131  0.3222528  0.9313594  0.30795387\n",
      " 0.15989863 0.08786573 0.54314562 0.40317388 0.02660958 0.17909557\n",
      " 0.91369677 0.26556829 0.05917126 0.82767928 0.6085551  0.53994953\n",
      " 0.59207307 0.63684026 0.65610737 0.71982208 0.14724831 0.92863917\n",
      " 0.95121505 0.16257417 0.34694603 0.60143796 0.98830804 0.19150457\n",
      " 0.98493585 0.54152253 0.55301261 0.82675134 0.99309473 0.54936349\n",
      " 0.63722757 0.46688828 0.8029576  0.67784168 0.14327647 0.81871701\n",
      " 0.24167495 0.87735368 0.15203695 0.5897376  0.97710977 0.7467088\n",
      " 0.15697577 0.66794341 0.13863902 0.85821279 0.79004073 0.94387833\n",
      " 0.3223345  0.78937347 0.91184521 0.63607941 0.593472   0.48202788\n",
      " 0.61359561 0.56022872 0.0594949  0.98857078 0.41708268 0.25359482\n",
      " 0.32771356 0.32552094 0.41613405 0.58847044 0.6758105  0.47425361\n",
      " 0.19626853 0.70554189 0.48711846 0.13399215 0.47306035 0.08527147\n",
      " 0.85502508 0.33536988 0.49337704 0.16427425 0.6081838  0.40695163\n",
      " 0.72388492 0.62295432 0.51113415 0.55863009 0.60583313 0.43745902\n",
      " 0.74251682 0.21149309 0.42881714 0.98680873 0.13400362 0.3841514\n",
      " 0.36928752 0.01861792 0.77331356 0.14009504 0.14751767 0.8332572\n",
      " 0.24167815 0.19217013 0.42167509 0.68526817 0.05300707 0.93834575\n",
      " 0.02987608 0.25995227 0.51132888 0.09936432 0.33509552 0.00385802\n",
      " 0.8942457  0.1961622  0.3264691  0.04702937 0.28862259 0.84099822\n",
      " 0.87390129 0.31992832 0.12328638 0.60397638 0.86854271 0.46709355\n",
      " 0.30052484 0.30753483 0.5037094  0.54865149 0.60989232 0.18501571\n",
      " 0.30002872 0.370106   0.13905817 0.54874689 0.9496181  0.53607285\n",
      " 0.18760896 0.09089819 0.14297418 0.39873901 0.48069394 0.5914187\n",
      " 0.49660126 0.84916319 0.22893477 0.04630927 0.07227324 0.7237056\n",
      " 0.15779199 0.19345566 0.54435971 0.93723428 0.51593591 0.76819239\n",
      " 0.67993696 0.11150425 0.70134206 0.56783833 0.86498964 0.9070139\n",
      " 0.34756607 0.1978601  0.46970547 0.84087228 0.61444376 0.46340751\n",
      " 0.41920364 0.43875355 0.84799992 0.11653764 0.4658295  0.26503754\n",
      " 0.1159445  0.56212644 0.4434528  0.61226219 0.52340418 0.58591314\n",
      " 0.9971838  0.99496414 0.79030707 0.5365564  0.61043394 0.50442288\n",
      " 0.658388   0.68398674 0.02949227 0.23338712 0.76569026 0.87361463\n",
      " 0.32130721 0.25086453 0.01823128 0.33802198 0.35773237 0.93936993\n",
      " 0.44179069 0.85680859 0.21097039 0.73300261 0.46028427 0.86636598\n",
      " 0.93053826 0.67364712 0.99534421 0.96561183 0.93680878 0.09108284\n",
      " 0.56715781 0.51516518 0.22831235 0.71064567 0.88208111 0.34416404\n",
      " 0.47044724 0.45475711 0.07333227 0.61704103 0.67078519 0.23714294\n",
      " 0.99459288 0.60718831 0.95775245 0.6647868  0.17057723 0.44867032\n",
      " 0.74209896 0.69794172 0.06211822 0.283088   0.06399872 0.15452183\n",
      " 0.62095981 0.69837163 0.7197049  0.32606388 0.64019654 0.9538582\n",
      " 0.70444404 0.0571991  0.88043759 0.15694989 0.58791719 0.46424285\n",
      " 0.46195679 0.90797175 0.93149923 0.552065   0.4494649  0.56100875\n",
      " 0.28819395 0.19661236 0.43838858 0.47640941 0.7096475  0.44626143\n",
      " 0.12916286 0.49912327 0.7265057  0.20989021 0.8075319  0.7941963\n",
      " 0.08451245 0.95480648 0.02253834 0.97753874 0.87263701 0.7805774\n",
      " 0.15330552 0.1423503  0.86054473 0.54720686 0.31546052 0.81358476\n",
      " 0.24764292 0.39769932 0.63043468 0.54930071 0.1684831  0.57012581\n",
      " 0.57621564 0.17471404 0.56359546 0.19654797 0.35687581 0.55215407\n",
      " 0.61359654 0.52732349 0.0437578  0.86854694 0.7165592  0.92620169\n",
      " 0.89413701 0.71466721 0.67999959 0.65062115 0.55897486 0.77332214\n",
      " 0.48166667 0.44446368 0.08770296 0.42792264 0.07251069 0.78040815\n",
      " 0.10817285 0.82682279 0.08973443 0.86166552 0.30583992 0.48552766\n",
      " 0.29845091 0.7015252  0.30756135 0.34214393 0.71318477 0.885836\n",
      " 0.88708679 0.31076162 0.41466412 0.74256139 0.98295892 0.86322503\n",
      " 0.98406525 0.25188462 0.97066332 0.6244946  0.84722379 0.0015719\n",
      " 0.85274401 0.60000042 0.4413766  0.80209336 0.84461682 0.753507\n",
      " 0.22493703 0.50534828 0.47064339 0.44327677 0.02803458 0.09820334\n",
      " 0.26873967 0.76025455 0.98498053 0.97818436 0.99208257 0.24009417\n",
      " 0.0202062  0.81415359 0.77142795 0.4905296  0.70873429 0.3239691\n",
      " 0.38887482 0.92573878 0.04152622 0.54126681 0.84231421 0.50480752\n",
      " 0.85321337 0.59150025 0.42542082 0.23506383 0.97149417 0.62242405\n",
      " 0.41406796 0.55227411 0.7109972  0.92218739 0.56161754 0.67497583\n",
      " 0.59540763 0.01006394 0.76187049 0.16390382 0.22140146 0.91470625\n",
      " 0.59371901 0.39833676 0.36180589 0.84063218 0.28210433 0.89828844\n",
      " 0.43726954 0.77196825 0.38365439 0.69641742 0.77362184 0.63832369\n",
      " 0.97496481 0.94890698 0.06319379 0.09623141 0.77554787 0.49092751\n",
      " 0.69001698 0.44851798 0.31158958 0.56691659 0.78255177 0.76056939\n",
      " 0.63726628 0.87811179 0.27100136 0.61434958 0.11887449 0.72878765\n",
      " 0.29898808 0.46918558 0.34111651 0.91428031 0.32265768 0.58124396\n",
      " 0.24869805 0.91718923 0.30943466 0.22690606 0.47097773 0.10220301\n",
      " 0.17268563 0.94542497 0.19195747 0.0931175  0.57121894 0.91453683\n",
      " 0.32753684 0.95508062 0.36466254 0.55959926 0.11879951 0.1252204\n",
      " 0.44030289 0.67540164 0.15010498 0.69963429 0.93903201 0.10540944\n",
      " 0.67270593 0.82157212 0.65963193 0.24197896 0.34528285 0.81550547\n",
      " 0.03291148 0.47867753 0.85072121 0.76552253 0.945595   0.58757981\n",
      " 0.51916294 0.9250007  0.34285557 0.28276595 0.58527516 0.08004175\n",
      " 0.84648752 0.25981236 0.43075624 0.63717525 0.01018188 0.82662039\n",
      " 0.08484364 0.95608331 0.80613338 0.96122211 0.05675351 0.43711112\n",
      " 0.04000674 0.6650567  0.4114105  0.94919461 0.68359893 0.15207394\n",
      " 0.18293264 0.18102648 0.01245726 0.22659649 0.91632793 0.72702431\n",
      " 0.42171877 0.87876467 0.90209001 0.12361158 0.31204739 0.20613568\n",
      " 0.23721569 0.0898571  0.47441932 0.53689588 0.11425748 0.24191339\n",
      " 0.69151722 0.08321306 0.65680728 0.21875261 0.62742623 0.479306\n",
      " 0.78931237 0.3528285  0.19908575 0.84918592 0.77561782 0.64434463\n",
      " 0.86940866 0.89686537 0.48710726 0.603074   0.91663321 0.8877503\n",
      " 0.79211552 0.26195785 0.90741438 0.53326058 0.18795163 0.98702536\n",
      " 0.70030684 0.96827484 0.4444262  0.36358415 0.35235744 0.02677349\n",
      " 0.92268937 0.20433657 0.53695568 0.21954848 0.01877107 0.97230148\n",
      " 0.60932485 0.96510198 0.22341384 0.97404969 0.61379497 0.82270561\n",
      " 0.63346892 0.03577207 0.30156304 0.0307664  0.67101839 0.60909059\n",
      " 0.10168754 0.37766992 0.63835739 0.27200984 0.2377054  0.52456568\n",
      " 0.01930317 0.15510808 0.17389675 0.08254474 0.47424801 0.79500484\n",
      " 0.13501645 0.05817459 0.42575182 0.93509049 0.8650944  0.13945967\n",
      " 0.90545447 0.63896848 0.79852558 0.30468633 0.71601264 0.39373218\n",
      " 0.26411584 0.61289566 0.97594381 0.07851692 0.87068276 0.15706727\n",
      " 0.78009106 0.45939099 0.49930561 0.82163773 0.37749124 0.82312404\n",
      " 0.56604541 0.66484462 0.28059179 0.3826423  0.10978229 0.95880617\n",
      " 0.55101051 0.228566   0.37143758 0.5509157  0.06143555 0.68303104\n",
      " 0.75655889 0.14872941 0.93294973 0.25768292 0.98521473 0.61347476\n",
      " 0.14892936 0.74813049 0.99601311 0.68211528 0.65973299 0.88993572\n",
      " 0.67107483 0.90067357 0.29118399 0.75598353 0.55155927 0.62205551\n",
      " 0.44074274 0.57424305 0.24665683 0.15384157 0.17125078 0.02533755\n",
      " 0.04642593 0.01029036 0.69622598 0.13402008 0.08270625 0.63452642\n",
      " 0.62074813 0.88978058 0.6203107  0.44537571 0.64989459 0.04878052\n",
      " 0.28391746 0.06631414 0.33471308 0.66947003 0.73349252 0.46376228\n",
      " 0.46830541 0.57815264 0.56261886 0.52417438 0.80670186 0.93256949\n",
      " 0.07284972 0.69817656 0.00436484 0.47758762 0.74357417 0.28864506\n",
      " 0.29874632 0.88318397 0.83247192 0.47820873 0.47008377 0.77630884\n",
      " 0.43704448 0.97591672 0.70292667 0.34855575 0.62578295 0.22491189\n",
      " 0.29470225 0.71954163 0.33295376 0.92314565 0.87484139 0.36716826\n",
      " 0.30658399 0.54244037 0.73624329 0.59129096 0.00900693 0.85653669\n",
      " 0.27697961 0.48877605 0.53991242 0.48476086 0.06572828 0.41305272\n",
      " 0.43906912 0.44163602 0.56970513 0.15233854 0.4476866  0.89815726\n",
      " 0.52243549 0.69223225 0.44003387 0.88568486 0.82639519 0.52885174\n",
      " 0.08308437 0.01887547 0.93059264 0.61226308 0.49332741 0.25031663\n",
      " 0.96213057 0.18559038 0.30042943 0.03611067 0.23822218 0.35464163\n",
      " 0.30157218 0.09478924 0.30505073 0.81742272 0.04572681 0.02600894\n",
      " 0.15847329 0.21444872 0.6407089  0.54478873 0.22810877 0.53025501\n",
      " 0.56673949 0.75202439 0.09786277 0.0988693  0.2709633  0.66169315\n",
      " 0.28780182 0.0102033  0.39138659 0.1759638  0.59896496 0.15720528\n",
      " 0.2051346  0.55480161 0.91436084 0.94652827 0.68289497 0.84354185\n",
      " 0.09353561 0.20275427 0.53689725 0.61961514 0.06598139 0.0482492\n",
      " 0.405724   0.97007201 0.70002691 0.64291844 0.12498505 0.56594563\n",
      " 0.28379218 0.06111852 0.89044614 0.94265988 0.64434075 0.46650024\n",
      " 0.84599591 0.78983938 0.00683701 0.60104784 0.39768042 0.82240832\n",
      " 0.48858402 0.02654671 0.84197862 0.6963373  0.09331701 0.48727609\n",
      " 0.05869844 0.61339698 0.3737959  0.04419825 0.68223992 0.08003896\n",
      " 0.33439355 0.25677198 0.44522327 0.69883558 0.6287438  0.95956067\n",
      " 0.95709127 0.44768631 0.33604853 0.21953611 0.14692541 0.1000727\n",
      " 0.91636    0.17877813 0.86293332 0.32860363 0.26107457 0.75990437\n",
      " 0.31203038 0.32648518 0.18081752 0.85253877 0.35186667 0.50262138\n",
      " 0.7473417  0.37796401 0.55752591 0.9411479  0.97418117 0.90906292\n",
      " 0.64763523 0.64322362 0.7975021  0.84423297 0.24307532 0.53197698\n",
      " 0.44328471 0.22236827 0.15279203 0.9453411  0.69851107 0.49529509\n",
      " 0.95491273 0.84930457 0.70832947 0.36563328 0.78070336 0.815541\n",
      " 0.43849055 0.97541221 0.88744426 0.84552152 0.99889416 0.02945674\n",
      " 0.62543    0.9812835  0.29498241 0.97846314 0.64717489 0.61831397\n",
      " 0.32810204 0.53630339 0.96182303 0.65906561 0.30325305 0.43198158\n",
      " 0.38971577 0.71193066 0.35123881 0.16797839 0.92276896 0.60117583\n",
      " 0.22160079 0.64654904 0.55680076 0.26005275 0.71669    0.06809655\n",
      " 0.32172479 0.23798438 0.09749147 0.79807271 0.1800066  0.86277201\n",
      " 0.86029176 0.93809879 0.19713494 0.1565471  0.54075412 0.69878382\n",
      " 0.55360529 0.58160942 0.85896538 0.9515948  0.51430979 0.39330784\n",
      " 0.83052886 0.55229903 0.50622457 0.6445946  0.57500077 0.34779896\n",
      " 0.33488019 0.78310235 0.89315397 0.14475567 0.69287372 0.09641033\n",
      " 0.97193055 0.83210004 0.89840038 0.32254344 0.63963202 0.60363524\n",
      " 0.80080617 0.31711824 0.45746246 0.7793129  0.54320842 0.39588014\n",
      " 0.4941739  0.95856138 0.08823278 0.073851  ]\n"
     ]
    },
    {
     "data": {
      "text/plain": [
       "array([ 3.98887073e+00,  3.37111000e+00,  6.14933749e+00,  2.55106011e+00,\n",
       "        4.94922708e+00,  2.36881947e+00,  5.92885149e+00,  6.84175600e+00,\n",
       "        1.04268317e+01,  4.60310690e+00,  1.02721946e+01,  6.29564854e+00,\n",
       "        8.18973007e+00,  5.82896444e+00,  7.34339504e+00,  4.77302845e+00,\n",
       "        1.34460713e+01,  2.30098270e+00,  2.51730079e-02,  1.57754070e+00,\n",
       "        1.05222145e+01,  3.13570021e+00,  9.64300704e+00,  6.83880348e+00,\n",
       "        3.62613444e+00,  3.31476940e+00,  3.08824653e+00,  9.81664506e+00,\n",
       "        6.10484497e+00, -2.17068372e+00,  3.77326485e+00,  2.67980148e+00,\n",
       "        5.88282302e+00,  8.68658303e+00,  6.78776916e+00,  5.15434635e+00,\n",
       "        5.70088546e+00,  3.76764344e-01,  3.58627878e+00,  1.13526567e+01,\n",
       "        6.73284605e+00,  1.05087864e+01,  6.90033951e+00,  8.63805513e-01,\n",
       "        6.90410342e+00,  4.05791219e+00,  3.48505260e+00,  3.10203804e+00,\n",
       "        9.03872006e+00,  2.42345312e+00,  9.78916057e+00,  5.41069457e+00,\n",
       "        2.85043450e+00,  5.38819018e+00,  7.46435020e+00,  6.06572659e+00,\n",
       "        3.27763672e+00,  4.02025616e+00,  4.70785245e+00,  4.96277410e+00,\n",
       "        7.81546153e+00,  3.37623178e+00,  2.63691643e+00,  9.99727791e+00,\n",
       "        5.69239348e+00,  8.72602301e+00,  6.98095692e+00,  9.19209891e+00,\n",
       "        1.83981342e+00,  8.63661368e-01,  6.48776118e+00,  4.65305578e+00,\n",
       "        6.88470597e+00,  5.33969967e+00,  4.72723068e+00,  4.61182056e+00,\n",
       "        7.33557193e+00,  6.81049766e+00,  1.01927491e+01,  4.27319171e+00,\n",
       "        3.58303888e+00,  3.34565515e+00,  7.45122032e+00,  4.59504776e+00,\n",
       "        7.49218182e+00,  9.49964843e+00,  2.80379733e+00,  5.00693946e+00,\n",
       "        6.73995906e+00,  2.67280460e+00, -2.43676162e+00,  4.45818191e-03,\n",
       "        3.06541450e+00,  5.16263083e+00,  6.55459820e+00,  2.45191336e+00,\n",
       "        7.67023313e+00,  2.44698097e+00,  1.04120342e+01,  7.39719632e+00,\n",
       "        4.00920531e+00,  2.12185091e+00,  3.47771597e+00,  9.23661852e+00,\n",
       "        7.30917197e+00,  7.34738940e+00,  3.09251403e+00,  1.25896723e+00,\n",
       "        8.29842668e+00, -1.18290585e+00,  3.77826644e+00,  3.21589415e+00,\n",
       "        5.14708837e+00,  1.31514573e+00,  8.31945402e+00,  6.83207843e+00,\n",
       "        4.79682076e+00,  3.24686619e+00,  2.14897187e+00,  4.77741507e+00,\n",
       "        7.74868438e+00,  3.54870504e+00,  1.28709641e+00,  8.21133641e+00,\n",
       "        3.05921513e+00,  8.29579481e+00,  9.57396636e+00,  4.10469910e+00,\n",
       "       -1.02586952e+00,  4.84283039e+00,  5.45844465e+00,  3.64847633e-01,\n",
       "        3.67555781e+00,  6.23169859e+00,  5.53490235e+00,  4.38542015e+00,\n",
       "        1.10100053e+01,  2.14443854e+00,  4.62976649e+00,  5.31996514e+00,\n",
       "        4.83754329e+00,  8.36775384e+00,  1.11799653e+01,  5.54144949e+00,\n",
       "        2.02347701e+00,  1.45090543e+00,  8.99633912e+00,  2.57518583e+00,\n",
       "        8.69733543e+00,  6.43098119e+00,  4.53861240e+00,  5.56032313e+00,\n",
       "        3.16844344e+00,  4.89526490e+00,  5.23840461e+00,  7.83393119e-01,\n",
       "        5.72524589e+00,  9.36996788e+00,  7.50587174e+00,  7.23611592e+00,\n",
       "        6.68498778e+00,  2.13037531e+00,  1.01453364e+01,  4.61304559e+00,\n",
       "        3.44884998e+00,  4.08477516e+00,  2.13947759e+00,  8.96037675e-01,\n",
       "        8.32485898e+00,  4.87069908e-01,  3.93018763e+00,  8.29918365e+00,\n",
       "        3.13439583e+00,  2.71483103e+00,  7.63098997e+00,  6.42452043e+00,\n",
       "        1.71157881e+00,  1.69897977e+00,  3.15208589e+00,  5.48001892e+00,\n",
       "        5.92741211e+00,  8.52714833e-01, -8.77325880e-02,  5.92255916e+00,\n",
       "        3.60439978e+00,  3.98837253e+00,  4.13758853e+00,  5.62112689e+00,\n",
       "        5.01623485e+00,  5.75511789e+00,  8.15050446e+00,  7.27447786e+00,\n",
       "        9.43055136e+00,  4.95838899e+00,  6.00623393e+00,  4.70053255e-01,\n",
       "        4.51309606e+00,  8.17567928e+00,  7.17991106e+00,  4.81763464e-01,\n",
       "        5.37700675e+00,  6.31816108e+00,  5.88562397e+00,  4.31471644e+00,\n",
       "        7.98503307e+00,  6.33668216e+00,  3.10008605e+00,  1.15048135e+01,\n",
       "        7.02526273e-01,  4.04806592e+00,  1.43013711e+00,  3.18908900e+00,\n",
       "       -4.08205303e-01,  4.65748659e+00,  2.19370114e+00,  6.52641333e+00,\n",
       "        3.58628521e+00,  2.46440553e+00,  3.28795774e-01,  1.07507711e+01,\n",
       "        8.24942408e+00,  2.74495596e+00,  4.69014050e+00,  6.39134582e+00,\n",
       "        4.93846436e+00,  5.00616495e+00,  4.07379383e+00,  3.54231176e+00,\n",
       "        5.25709156e+00,  6.26069046e+00,  1.37438891e+00,  7.85076801e+00,\n",
       "        6.45906971e+00,  1.09339609e+01,  5.28475867e+00,  4.05182762e+00,\n",
       "        5.35258723e+00,  4.24509489e+00,  2.73446074e+00,  5.08191778e+00,\n",
       "        7.53710729e+00, -2.82986280e+00,  5.62746706e+00,  1.00876841e+01,\n",
       "        4.76197109e+00, -1.24451690e-01,  2.38025773e+00,  6.54958665e+00,\n",
       "        8.41541654e+00,  9.94182982e-01, -8.62191329e-01,  8.06269076e+00,\n",
       "        1.76456523e+00,  1.00365175e+00,  4.34972299e+00,  4.38825074e+00,\n",
       "        6.65872963e+00,  2.92765598e+00,  7.37547183e+00,  5.79234187e+00,\n",
       "        6.45150403e+00,  7.29267955e+00,  1.04856107e+00,  3.04803439e+00,\n",
       "        3.64001196e+00,  5.55662413e+00,  8.04575644e+00,  1.01231664e+01,\n",
       "        9.40416804e+00,  7.11893801e+00,  5.32179829e+00,  7.96509426e+00,\n",
       "        5.54015494e+00,  4.49906015e+00,  5.23008892e+00,  6.33001234e+00,\n",
       "        3.76833446e+00,  6.15453545e+00,  5.75412397e+00,  9.02659556e+00,\n",
       "        5.90117303e+00, -8.80875340e-01,  1.02555963e+01,  8.26964223e+00,\n",
       "        2.81250178e+00,  7.18014299e+00,  4.52200184e+00,  8.50174521e+00,\n",
       "        2.79984755e+00,  1.28821343e+01,  5.00106492e+00,  9.50206806e+00,\n",
       "        1.07555047e+00,  4.46596003e+00,  4.12062245e+00,  1.17702108e+01,\n",
       "        3.47949439e+00,  4.69382982e+00,  1.82267237e+00,  5.13022624e+00,\n",
       "        1.35110386e+00,  6.80614214e+00,  2.03659718e+00,  2.09472112e+00,\n",
       "        1.91161814e+00,  2.75950750e+00,  1.81010494e+00,  9.85571646e+00,\n",
       "        6.39888712e+00,  6.68952417e+00,  9.98598520e+00,  9.55529156e+00,\n",
       "        2.13411708e-01,  8.12280158e+00,  3.45737912e+00,  1.13118603e+00,\n",
       "        7.55005644e+00,  1.32985720e+00,  2.82759599e+00,  1.20423052e+01,\n",
       "        5.67233056e+00,  9.27023127e+00,  1.03977941e+01,  6.63603217e+00,\n",
       "        3.80268227e+00,  4.93543381e+00,  5.32343311e+00,  8.37345077e+00,\n",
       "        1.78717648e+00,  1.77755602e+00,  1.37186765e+00,  2.29039446e+00,\n",
       "        4.27415338e+00,  6.83020745e+00,  8.03780469e+00,  2.05477823e+00,\n",
       "        5.38829985e+00,  5.53255370e+00,  5.44918002e+00,  3.10849057e+00,\n",
       "        8.03488473e+00,  5.77811495e+00,  6.87882510e+00,  3.75161980e+00,\n",
       "        4.01466582e+00,  9.58089353e-01,  5.96966119e+00,  8.46856530e+00,\n",
       "        1.08846379e+00,  2.53153500e+00,  2.56617478e+00,  7.33275725e+00,\n",
       "        4.38701178e+00,  8.51870449e+00,  8.95274662e+00,  4.80252669e+00,\n",
       "        6.78694538e+00,  4.28847468e+00,  8.74093900e+00,  1.18139132e+01,\n",
       "        6.35258899e+00,  5.39616364e+00,  1.62455138e+00, -3.35956651e-01,\n",
       "        6.54269876e+00,  1.17988396e+01,  8.63274572e+00,  9.57495804e+00,\n",
       "        8.81882283e+00,  8.56952079e+00,  5.89312114e+00,  5.03666567e+00,\n",
       "        4.04668859e+00,  2.85684521e+00,  3.52323790e+00,  2.68738155e+00,\n",
       "        4.07027835e+00,  8.48039685e+00,  1.33006082e+00,  4.76874921e-01,\n",
       "        5.28808103e+00,  5.87917543e+00,  1.92354763e+00,  2.60937631e+00,\n",
       "        7.49548465e+00,  2.67900481e+00,  3.15103783e+00,  1.04504764e+01,\n",
       "        6.42407648e+00,  3.10096703e+00,  1.57904914e+00,  7.69990588e+00,\n",
       "        7.09712538e+00,  6.92442465e-01,  5.65635945e+00,  5.01737483e+00,\n",
       "        1.21897913e+00,  6.27746587e+00,  4.09725729e+00,  7.60454758e+00,\n",
       "        8.71971083e-01,  6.26287824e-01,  3.25777162e+00,  8.20599902e+00,\n",
       "        3.69454451e+00,  1.00486087e+00,  4.40323502e+00,  2.44159090e+00,\n",
       "        7.84834433e+00,  5.04876945e+00,  3.24406693e+00,  2.93137224e+00,\n",
       "        4.73167887e+00,  4.04207678e+00,  4.76227113e+00,  3.94617918e+00,\n",
       "        5.54272855e+00,  6.47961758e+00, -9.43944884e-01,  4.48967970e+00,\n",
       "        5.56048483e+00,  4.64369543e+00,  6.53206235e+00,  3.26077103e+00,\n",
       "        1.46551520e+00,  5.94090065e+00,  7.27408664e+00,  5.32177872e+00,\n",
       "        4.27657103e+00,  9.21459989e-01,  1.66948002e+00,  4.49439993e+00,\n",
       "        5.17630418e+00,  4.03957172e+00,  8.55010408e+00,  7.21317974e+00,\n",
       "        1.21404930e+01,  1.35092083e+00,  5.01180737e+00, -6.63289440e-01,\n",
       "        2.26484532e+00,  4.02699419e+00,  3.75537657e+00,  5.35713329e+00,\n",
       "        5.23641827e+00,  9.63647254e+00,  4.13632493e+00, -5.26167608e-01,\n",
       "        3.61325143e+00,  9.34472040e+00,  3.24389380e+00,  4.72804247e+00,\n",
       "        1.66031465e+00,  5.06562949e+00,  1.36311583e+01,  5.60400694e-01,\n",
       "        7.29668338e+00,  2.98847062e-01, -1.27940484e-01,  5.25717144e+00,\n",
       "        5.34054282e+00,  8.24092579e+00, -6.98594153e+00,  2.94472996e+00,\n",
       "        1.15917016e+01,  6.40659945e+00,  1.53906307e-01,  7.32368101e+00,\n",
       "        6.02987794e+00,  4.23581178e+00,  3.09348452e+00,  9.16194616e+00,\n",
       "        3.43456299e+00,  9.57443122e-01,  9.93903038e+00,  8.11378691e+00,\n",
       "        8.28007703e-01,  7.35714566e+00,  8.91038645e+00,  8.73391923e+00,\n",
       "        9.94412237e+00,  4.03962593e+00,  4.65924457e+00, -9.86867357e-01,\n",
       "        5.14867089e+00, -5.08454665e+00,  4.54874079e-01,  6.92427803e+00,\n",
       "        3.20486072e+00,  8.30965980e+00,  5.95734820e+00,  5.10749588e+00,\n",
       "        6.95146269e+00,  4.58507018e+00,  4.46810250e+00,  3.54835552e+00,\n",
       "       -7.63153194e-01,  2.40639927e+00,  8.61267004e+00,  8.23339834e+00,\n",
       "        6.25447972e-01,  6.35030038e+00,  3.69139588e+00,  4.75195328e+00,\n",
       "        2.51120336e+00,  3.13514578e+00,  1.01575480e+01,  1.93166222e+00,\n",
       "        4.21674786e+00,  4.23663382e+00,  1.78625759e+00,  6.61309352e+00,\n",
       "        3.46781100e+00,  2.62208321e+00,  1.01090090e+01,  2.68191766e-01,\n",
       "        3.14901388e+00,  6.38676784e+00,  6.99593957e+00, -1.82731370e+00,\n",
       "        5.11978303e+00,  5.44613041e+00,  4.49384539e+00,  4.94131391e+00,\n",
       "        8.88577102e+00,  3.76228673e+00,  1.19541195e+01,  2.15840422e+00,\n",
       "        3.34628362e+00,  5.41547425e+00,  5.32796916e+00,  1.26377252e+00,\n",
       "        5.54240783e+00,  5.16754634e+00,  3.45687755e+00,  9.21995512e+00,\n",
       "        9.25257570e+00,  4.19196964e+00,  6.73398652e+00,  7.14387825e-02,\n",
       "        3.13695447e+00,  1.86415036e+00,  9.80887931e+00,  6.42834789e+00,\n",
       "        1.85710151e+00,  5.36417625e+00,  9.85983590e+00,  5.06568226e+00,\n",
       "        6.55957346e+00,  1.04664315e+00,  4.12328247e+00,  3.83537610e+00,\n",
       "        6.99052330e+00,  5.32735510e+00, -1.23875052e+00, -2.20267363e+00,\n",
       "        4.50898072e+00,  6.98136046e+00,  1.87956002e+00,  5.21241361e+00,\n",
       "        1.30661378e+00,  6.97797130e+00,  4.20321945e+00,  6.93105073e+00,\n",
       "        5.37059946e+00,  5.69648069e+00,  6.74173514e+00,  2.89284100e+00,\n",
       "        5.44484858e+00,  8.09479981e+00,  6.11260083e+00,  6.33261889e-01,\n",
       "        1.16682354e+00,  6.60585045e-01,  1.36359740e+00,  4.83776070e+00,\n",
       "        5.34482568e+00,  7.80412320e-01,  6.41897003e+00,  5.92246994e+00,\n",
       "        5.85674721e+00,  5.36630941e+00,  4.93432586e+00,  4.27713750e-01,\n",
       "        6.41576825e+00,  8.88201928e+00,  7.95297928e+00,  1.06533437e+01,\n",
       "        7.04635946e+00,  6.21847878e+00,  2.46815335e+00,  8.55737271e+00,\n",
       "        8.23700517e+00,  2.79781876e+00,  3.64790712e+00,  2.15784101e+00,\n",
       "        3.30737074e+00, -9.29604566e-01,  7.96627386e+00,  6.84114338e+00,\n",
       "        6.63924150e+00,  4.89743275e+00,  8.32427137e+00,  3.18148684e+00,\n",
       "        5.28484013e+00, -1.29129707e-01,  4.01815616e+00,  9.04562989e+00,\n",
       "        2.19648702e+00,  1.12315587e+01,  9.41285015e+00,  5.34812087e+00,\n",
       "        4.78111024e+00,  3.53277050e+00,  5.52642302e+00,  8.93006580e+00,\n",
       "        1.27530341e+01,  4.09836919e+00,  3.44366426e+00,  2.38143361e+00,\n",
       "        1.41506771e-01,  5.85150068e+00,  5.89298210e+00,  1.73947880e+00,\n",
       "        6.22910754e+00,  2.32390308e+00,  5.43970278e+00,  2.20501252e+00,\n",
       "        6.98930802e+00,  7.46542854e+00,  3.70876720e+00, -2.24333479e+00,\n",
       "        9.00403677e+00,  9.82634036e+00,  7.78922809e+00,  5.87328740e+00,\n",
       "        2.75969548e+00,  4.93101197e+00,  6.21610694e+00,  7.11568158e+00,\n",
       "        7.21356194e+00,  1.80409526e+00,  7.69221664e+00,  5.31859776e+00,\n",
       "        1.28672201e+01,  7.08102739e+00,  8.47465455e+00,  1.68502706e-02,\n",
       "        6.45738499e+00,  3.86732370e+00,  2.97860791e+00,  8.81620596e+00,\n",
       "        2.67772641e+00,  7.20458369e-01,  2.78826697e+00,  5.27622847e+00,\n",
       "        1.85963412e+00,  3.01856436e+00,  2.14816675e-01,  6.77375896e-01,\n",
       "        5.55329691e+00,  6.00771194e+00,  3.46831983e+00,  1.49537845e+00,\n",
       "        3.31469103e+00,  1.69949533e+00,  5.49365512e+00,  1.04582934e+01,\n",
       "        5.73543457e+00,  5.26620422e+00,  5.68310630e+00,  5.40725418e+00,\n",
       "        3.08030329e+00,  8.24756189e+00,  2.98959020e+00,  4.58203688e+00,\n",
       "        7.28463715e+00,  5.74157517e+00,  7.02577231e+00,  6.44872742e+00,\n",
       "        8.41426116e+00,  5.55925020e-01,  7.67286916e+00,  6.31881834e+00,\n",
       "        7.79927246e+00,  6.27667797e+00,  2.06035658e+00,  1.70905981e+00,\n",
       "        1.00572472e+01,  4.30998414e+00,  1.99680326e+00,  8.41212945e+00,\n",
       "        5.15757756e+00,  1.99826835e-01,  4.81342995e+00,  1.95441765e+00,\n",
       "        4.96166413e+00,  8.79866840e+00,  1.09990814e+01,  9.35647068e+00,\n",
       "        5.57030170e+00,  1.22324810e+00,  1.10067706e+01,  6.28156026e+00,\n",
       "        3.51859867e+00,  5.64239519e+00,  6.28346329e+00,  5.16067179e+00,\n",
       "        9.99933418e+00,  6.66249361e+00,  6.61126740e+00,  2.97172955e+00,\n",
       "        6.91199603e+00,  8.74295904e-01,  7.97562173e+00,  5.59191310e+00,\n",
       "       -1.30013245e+00,  6.64249146e+00,  6.76842064e+00,  4.17478784e+00,\n",
       "        9.56196628e+00,  6.75758571e+00,  5.19195952e+00,  9.53396681e+00,\n",
       "        5.97281997e+00,  2.83689253e+00,  4.30443368e+00,  6.89727107e+00,\n",
       "        4.08131617e+00,  3.66983090e+00,  6.20868612e+00,  1.17980913e+01,\n",
       "        5.60603766e+00, -1.33698273e+00,  5.48348188e+00,  8.88650313e+00,\n",
       "        5.36797192e+00,  4.70950669e+00,  2.33943720e+00,  9.43013428e+00,\n",
       "        3.09505222e+00,  8.61597341e+00,  6.44321810e+00,  4.45567251e+00,\n",
       "        5.03666524e+00,  1.94225981e+00,  1.69994835e+00,  6.89420424e+00,\n",
       "        1.10281460e+01,  2.00294180e+00, -1.15992724e+00,  3.83314922e+00,\n",
       "        7.54088257e+00,  3.41412890e+00,  2.24030776e+00,  3.66607287e+00,\n",
       "        9.52966914e+00,  4.65518940e+00,  9.39778264e+00,  1.01217220e+01,\n",
       "        8.05764906e+00,  2.92171950e-01,  6.73449273e+00,  2.89217611e+00,\n",
       "        1.69701591e+00,  9.65192448e+00,  2.48724642e+00,  3.20162756e+00,\n",
       "        1.65562153e-01,  5.33454976e+00, -4.37931870e+00,  4.92487548e+00,\n",
       "       -3.03123555e+00,  9.35443545e+00,  1.83760101e+00,  1.93539958e+00,\n",
       "        3.91854858e+00,  6.90384272e+00,  5.91577876e+00,  4.61309490e+00,\n",
       "       -1.25072473e+00,  5.04024382e+00,  1.03943523e+01,  8.10363507e+00,\n",
       "        8.14751034e+00,  4.54811045e+00,  4.82452451e+00,  5.24894329e+00,\n",
       "        1.45999143e+00,  5.32407502e+00,  3.49405615e+00,  7.93327480e-01,\n",
       "        5.38482634e+00,  4.83103892e+00,  5.59117274e+00,  2.10923339e+00,\n",
       "        1.02008503e+01,  4.20886294e+00,  9.42964134e-01,  5.33372314e+00,\n",
       "        3.92505561e+00,  4.69285666e+00,  9.90893673e+00,  3.42509956e+00,\n",
       "        7.53941863e+00,  4.95300927e+00,  1.29374348e+00,  4.94249080e+00,\n",
       "        6.86940038e+00,  6.24484583e+00,  7.02392616e+00,  7.07949786e+00,\n",
       "        1.49453798e+01,  2.49982302e+00,  7.31286656e+00, -1.08596373e+00,\n",
       "        6.33033044e+00,  7.12453486e+00,  8.02245907e-01,  4.66861786e+00,\n",
       "        6.00005618e+00,  2.74698992e+00,  7.26172081e+00,  3.39008431e+00,\n",
       "        2.09898758e+00,  2.55812267e+00,  2.89288770e+00, -1.63895330e-01,\n",
       "        3.60587015e+00,  3.75909430e+00,  7.33328865e+00,  7.51263522e+00,\n",
       "        7.52379029e+00,  5.95594361e+00,  5.22765226e+00,  6.78767078e+00,\n",
       "        6.01842325e+00,  4.50816953e-01,  2.69688671e+00,  6.50055476e+00,\n",
       "        6.44455892e+00,  5.76255590e+00,  9.88946104e+00,  6.64593593e+00,\n",
       "        3.94403447e+00,  4.49813775e-01,  4.86591244e+00,  4.10033972e+00,\n",
       "        5.29531794e+00,  7.55880300e+00,  9.90924519e+00,  7.17590823e+00,\n",
       "        6.26630801e+00,  5.64093208e+00,  3.18520376e+00, -2.30786684e+00,\n",
       "        5.82761756e+00,  4.23276175e+00,  6.11952862e+00,  3.53457129e+00,\n",
       "        2.41550707e+00,  5.39159670e+00,  3.29269807e+00,  7.07721808e+00,\n",
       "        4.47071420e+00,  7.33476834e+00,  3.77702421e+00,  7.82392837e+00,\n",
       "        4.44835802e+00,  3.96298167e+00,  5.97916847e+00,  6.86416967e+00,\n",
       "        4.87181266e+00,  6.76149142e+00,  8.11065251e-01,  2.18466107e+00,\n",
       "        4.53781726e+00,  1.66635048e+00,  2.52330020e+00,  3.24325762e+00,\n",
       "        3.88079170e+00, -1.89304071e+00, -4.07991754e+00, -4.42390793e-01,\n",
       "        7.68769187e+00,  8.21142884e+00,  4.28974153e+00,  5.70385857e+00,\n",
       "        7.30385077e+00,  3.18833825e+00,  3.16529944e+00,  1.50038781e+00,\n",
       "        5.99082887e+00,  2.95746966e+00,  5.33291953e+00,  5.15555241e+00,\n",
       "        5.66059209e+00,  4.03513791e+00,  6.17555019e+00,  1.13840139e+01,\n",
       "        9.93634329e+00,  5.30102271e+00,  3.87040272e+00,  6.62237504e+00,\n",
       "        2.33467567e+00,  7.63519458e+00,  6.61338705e+00,  2.22136341e+00,\n",
       "        3.29921966e+00, -1.61692588e-01,  5.15803699e-01,  8.68837176e+00,\n",
       "        4.99671081e+00,  8.51977089e+00,  1.02186097e+01,  9.13788175e+00,\n",
       "        9.21041419e+00,  1.13970302e+01,  8.78432415e+00,  3.72316441e+00,\n",
       "        5.90045859e+00,  1.86179240e+00,  2.90277848e+00,  9.37395841e+00,\n",
       "        4.86449776e+00,  2.22490054e+00,  6.87052740e+00,  5.00009193e+00,\n",
       "        7.51204615e+00,  6.02054411e+00,  4.88900567e+00,  6.95223978e+00,\n",
       "        4.95959757e+00,  9.92340981e+00,  6.65090836e+00,  8.89250773e+00,\n",
       "        4.06563563e+00,  3.50677600e+00,  5.41829105e+00,  8.39364535e+00,\n",
       "        7.58160829e+00,  9.20679072e+00,  5.07681030e+00,  8.64238608e+00,\n",
       "        3.57074463e+00,  6.03925836e+00,  5.49868890e+00,  1.11915658e+01,\n",
       "        1.31596358e+00,  1.14403579e+01,  9.46621834e+00,  7.84479372e+00,\n",
       "        3.51766387e+00,  5.25972103e+00,  1.67294013e+00,  7.43035991e+00,\n",
       "        6.46483966e+00,  3.90280642e+00,  2.57733347e+00,  7.29628401e+00,\n",
       "        6.57056387e+00,  5.19130992e+00,  6.60517066e+00, -1.30660715e+00,\n",
       "        8.44562460e+00,  7.33116470e+00,  2.23075525e+00,  4.55444899e+00,\n",
       "       -5.13725745e-01,  5.24535562e+00,  3.87789020e+00,  8.65887435e+00,\n",
       "        6.46116918e+00,  2.66542521e+00,  4.53054144e+00, -6.69585772e-02,\n",
       "        9.28141434e+00,  5.10839640e+00,  5.64109676e+00,  9.02883400e+00,\n",
       "        6.31130563e+00,  5.53691299e+00, -3.73403884e+00,  5.05284890e+00,\n",
       "        5.58597410e+00,  4.29251753e+00,  8.38121077e+00,  2.74405421e+00,\n",
       "        5.72399110e+00,  8.28134101e+00,  7.85353336e+00,  8.61846066e+00,\n",
       "        3.68050049e+00,  6.92482501e+00,  6.35609863e+00,  5.50467712e+00,\n",
       "        5.26972963e+00,  8.47095184e+00,  1.79475446e-01,  6.98088763e+00])"
      ]
     },
     "execution_count": 45,
     "metadata": {},
     "output_type": "execute_result"
    }
   ],
   "source": [
    "uniform_data = np.random.rand(1000)\n",
    "print(uniform_data)\n",
    "normal_data = np.random.normal(loc=5, scale=3.0, size=1000)\n",
    "normal_data"
   ]
  },
  {
   "cell_type": "code",
   "execution_count": 46,
   "id": "ea8d8720-9559-424b-8dab-2715ac02b975",
   "metadata": {},
   "outputs": [
    {
     "data": {
      "image/png": "[encoded data removed]",
      "text/plain": [
       "<Figure size 1000x600 with 2 Axes>"
      ]
     },
     "metadata": {},
     "output_type": "display_data"
    }
   ],
   "source": [
    "fig = plt.figure()   # Define the figure\n",
    "\n",
    "ax1 = fig.add_subplot(1,2,1)   # define location of first subplot\n",
    "ax1.hist(x=uniform_data, bins='auto',alpha=0.7, rwidth=0.85)\n",
    "ax1.set_title(\"Uniform Distribution\")\n",
    "\n",
    "ax2 = fig.add_subplot(1,2,2)   # define location of second subplot\n",
    "ax2.hist(x=normal_data, bins='auto', alpha=0.7, rwidth=0.7)\n",
    "ax2.set_title(\"Normal Distribution\")\n",
    "\n",
    "ax1.set_ylabel('Frequency')\n",
    "ax1.set_xlabel('x')\n",
    "ax2.set_xlabel('x')\n",
    "plt.show()"
   ]
  },
  {
   "cell_type": "markdown",
   "id": "00a8a1c1-6ffb-4cec-a410-748f62858106",
   "metadata": {},
   "source": [
    "## Putting it all together"
   ]
  },
  {
   "cell_type": "code",
   "execution_count": 47,
   "id": "9078ae21-f253-46f0-9379-6d6427f6b7eb",
   "metadata": {},
   "outputs": [
    {
     "data": {
      "text/plain": [
       "array([['MSN', 'YYYYMM', 'Value', 'Column_Order', 'Description', 'Unit'],\n",
       "       ['CLETPUS', '194913', '135451.32', '1',\n",
       "        'Electricity Net Generation From Coal, All Sectors',\n",
       "        'Million Kilowatthours'],\n",
       "       ['CLETPUS', '195013', '154519.994', '1',\n",
       "        'Electricity Net Generation From Coal, All Sectors',\n",
       "        'Million Kilowatthours'],\n",
       "       ...,\n",
       "       ['ELETPUS', '202213', '4243136.159', '13',\n",
       "        'Electricity Net Generation Total (including from sources not shown), All Sectors',\n",
       "        'Million Kilowatthours'],\n",
       "       ['ELETPUS', '202301', '347437.124', '13',\n",
       "        'Electricity Net Generation Total (including from sources not shown), All Sectors',\n",
       "        'Million Kilowatthours'],\n",
       "       ['ELETPUS', '202302', '310200.688', '13',\n",
       "        'Electricity Net Generation Total (including from sources not shown), All Sectors',\n",
       "        'Million Kilowatthours']], dtype='<U80')"
      ]
     },
     "execution_count": 47,
     "metadata": {},
     "output_type": "execute_result"
    }
   ],
   "source": [
    "data"
   ]
  },
  {
   "cell_type": "code",
   "execution_count": 53,
   "id": "97e234fa-17f4-4842-9e4d-4f7954b48704",
   "metadata": {},
   "outputs": [
    {
     "name": "stdout",
     "output_type": "stream",
     "text": [
      " The data header is ['CLETPUS' '195113' '185203.657' '1'\n",
      " 'Electricity Net Generation From Coal, All Sectors'\n",
      " 'Million Kilowatthours'] \n",
      " \n",
      " and the first 2 rows are [['CLETPUS' '195213' '195436.666' '1'\n",
      "  'Electricity Net Generation From Coal, All Sectors'\n",
      "  'Million Kilowatthours']\n",
      " ['CLETPUS' '195313' '218846.325' '1'\n",
      "  'Electricity Net Generation From Coal, All Sectors'\n",
      "  'Million Kilowatthours']]\n"
     ]
    }
   ],
   "source": [
    "data_head = data[0, :] # The data column lables\n",
    "# print(data_head)\n",
    "data = data[1:, :] # Remove the header from the rest of the data\n",
    "data\n",
    "\n",
    "print(f' The data header is {data_head} \\n \\n and the first 2 rows are {data[:2, :]}')"
   ]
  },
  {
   "cell_type": "code",
   "execution_count": 55,
   "id": "ca8b9d6f-e45e-48e2-b8b3-1eb832a23fd2",
   "metadata": {},
   "outputs": [
    {
     "data": {
      "text/plain": [
       "array(['Electricity Net Generation From Coal, All Sectors',\n",
       "       'Electricity Net Generation From Conventional Hydroelectric Power, All Sectors',\n",
       "       'Electricity Net Generation From Geothermal, All Sectors',\n",
       "       'Electricity Net Generation From Hydroelectric Pumped Storage, All Sectors',\n",
       "       'Electricity Net Generation From Natural Gas, All Sectors',\n",
       "       'Electricity Net Generation From Nuclear Electric Power, All Sectors',\n",
       "       'Electricity Net Generation From Other Gases, All Sectors',\n",
       "       'Electricity Net Generation From Petroleum, All Sectors',\n",
       "       'Electricity Net Generation From Solar, All Sectors',\n",
       "       'Electricity Net Generation From Waste, All Sectors',\n",
       "       'Electricity Net Generation From Wind, All Sectors',\n",
       "       'Electricity Net Generation From Wood, All Sectors',\n",
       "       'Electricity Net Generation Total (including from sources not shown), All Sectors'],\n",
       "      dtype='<U80')"
      ]
     },
     "execution_count": 55,
     "metadata": {},
     "output_type": "execute_result"
    }
   ],
   "source": [
    "energy_sources = np.unique(data[:, 4])\n",
    "energy_sources"
   ]
  },
  {
   "cell_type": "code",
   "execution_count": 56,
   "id": "183fad94-7294-4fdd-9ee1-30c2741e4134",
   "metadata": {},
   "outputs": [
    {
     "data": {
      "text/plain": [
       "array([False, False, False, ..., False, False, False])"
      ]
     },
     "execution_count": 56,
     "metadata": {},
     "output_type": "execute_result"
    }
   ],
   "source": [
    "# Extracting wind energy data\n",
    "mask_array = (data[:, 4] == 'Electricity Net Generation From Wind, All Sectors')\n",
    "mask_array"
   ]
  },
  {
   "cell_type": "code",
   "execution_count": 58,
   "id": "a1457fcc-39c5-41d0-b07f-fade32feeb65",
   "metadata": {},
   "outputs": [
    {
     "data": {
      "text/plain": [
       "array([['WYETPUS', '198301', '0.172', '12',\n",
       "        'Electricity Net Generation From Wind, All Sectors',\n",
       "        'Million Kilowatthours'],\n",
       "       ['WYETPUS', '198302', '0.018', '12',\n",
       "        'Electricity Net Generation From Wind, All Sectors',\n",
       "        'Million Kilowatthours'],\n",
       "       ['WYETPUS', '198303', '0.313', '12',\n",
       "        'Electricity Net Generation From Wind, All Sectors',\n",
       "        'Million Kilowatthours'],\n",
       "       ...,\n",
       "       ['WYETPUS', '202213', '434811.649', '12',\n",
       "        'Electricity Net Generation From Wind, All Sectors',\n",
       "        'Million Kilowatthours'],\n",
       "       ['WYETPUS', '202301', '39075.561', '12',\n",
       "        'Electricity Net Generation From Wind, All Sectors',\n",
       "        'Million Kilowatthours'],\n",
       "       ['WYETPUS', '202302', '42014.648', '12',\n",
       "        'Electricity Net Generation From Wind, All Sectors',\n",
       "        'Million Kilowatthours']], dtype='<U80')"
      ]
     },
     "execution_count": 58,
     "metadata": {},
     "output_type": "execute_result"
    }
   ],
   "source": [
    "wind_data = data[mask_array]\n",
    "wind_data\n",
    "# remove the unavailable data records\n",
    "wind_data = wind_data[wind_data[:, 2] != 'Not Available' ]\n",
    "wind_data"
   ]
  },
  {
   "cell_type": "code",
   "execution_count": 62,
   "id": "8b6d97dc-002a-4a19-8559-18b00c467116",
   "metadata": {},
   "outputs": [
    {
     "data": {
      "text/plain": [
       "array([['WYETPUS', '198313', '2.668', '12',\n",
       "        'Electricity Net Generation From Wind, All Sectors',\n",
       "        'Million Kilowatthours'],\n",
       "       ['WYETPUS', '198413', '6.49', '12',\n",
       "        'Electricity Net Generation From Wind, All Sectors',\n",
       "        'Million Kilowatthours'],\n",
       "       ['WYETPUS', '198513', '5.762', '12',\n",
       "        'Electricity Net Generation From Wind, All Sectors',\n",
       "        'Million Kilowatthours'],\n",
       "       ['WYETPUS', '198613', '4.189', '12',\n",
       "        'Electricity Net Generation From Wind, All Sectors',\n",
       "        'Million Kilowatthours'],\n",
       "       ['WYETPUS', '198713', '3.541', '12',\n",
       "        'Electricity Net Generation From Wind, All Sectors',\n",
       "        'Million Kilowatthours']], dtype='<U80')"
      ]
     },
     "execution_count": 62,
     "metadata": {},
     "output_type": "execute_result"
    }
   ],
   "source": [
    "annual_mask_array = np.array(([ x[-2:] == '13' for x in wind_data[:, 1]]))\n",
    "annual_mask_array\n",
    "wind_data = wind_data[annual_mask_array]\n",
    "wind_data[:5]"
   ]
  },
  {
   "cell_type": "code",
   "execution_count": 63,
   "id": "17aa8fdd-4e11-4e2b-ae61-36ebe4919807",
   "metadata": {},
   "outputs": [],
   "source": [
    "# lSave results to a comma-delimited csv file.\n",
    "np.savetxt('wind_annual_data.csv', wind_data, fmt='%s', delimiter=',')"
   ]
  },
  {
   "cell_type": "code",
   "execution_count": 64,
   "id": "dacdd388-02c7-4f7f-95ca-fc8c453296f7",
   "metadata": {},
   "outputs": [
    {
     "data": {
      "text/plain": [
       "array([2.66800000e+00, 6.49000000e+00, 5.76200000e+00, 4.18900000e+00,\n",
       "       3.54100000e+00, 8.71000000e-01, 2.11204300e+03, 2.78860000e+03,\n",
       "       2.95095100e+03, 2.88752300e+03, 3.00582700e+03, 3.44710900e+03,\n",
       "       3.16425300e+03, 3.23406900e+03, 3.28803500e+03, 3.02569600e+03,\n",
       "       4.48799800e+03, 5.59326100e+03, 6.73733100e+03, 1.03542800e+04,\n",
       "       1.11874660e+04, 1.41437410e+04, 1.78105490e+04, 2.65891370e+04,\n",
       "       3.44499270e+04, 5.53631000e+04, 7.38861320e+04, 9.46522460e+04,\n",
       "       1.20176599e+05, 1.40821703e+05, 1.67839745e+05, 1.81655282e+05,\n",
       "       1.90718548e+05, 2.26992562e+05, 2.54302695e+05, 2.72667454e+05,\n",
       "       2.95882484e+05, 3.37938049e+05, 3.78196775e+05, 4.34811649e+05])"
      ]
     },
     "execution_count": 64,
     "metadata": {},
     "output_type": "execute_result"
    }
   ],
   "source": [
    "energy = wind_data[:, 2].astype(float)\n",
    "energy"
   ]
  },
  {
   "cell_type": "code",
   "execution_count": 69,
   "id": "d9595552-4b56-4b6a-9811-cbbe7198f71f",
   "metadata": {},
   "outputs": [
    {
     "name": "stdout",
     "output_type": "stream",
     "text": [
      "Total wind energy generated in the USA since 1983 is 3387186.34 Gigawatt-hours\n",
      "The average annual energy generated from wind is 84679.65849999999 Gigawatt-hours, with a standard deviation of 143.38%\n",
      "The highest recorded annual energy generated by wind power is 434811.649 Gigawatt-hours\n",
      "The highest energy generation occured in the year 2022\n"
     ]
    }
   ],
   "source": [
    "print(f'Total wind energy generated in the USA since 1983 is {energy.sum()} Gigawatt-hours')\n",
    "print(f'The average annual energy generated from wind is {energy.mean()} Gigawatt-hours, '\n",
    "      f'with a standard deviation of {100 * energy.std() / energy.mean():.2f}%')\n",
    "print(f'The highest recorded annual energy generated by wind power is {energy.max()} Gigawatt-hours')\n",
    "index = energy.argmax() #this method returns the index of the maximum value in the array\n",
    "index\n",
    "print(f'The highest energy generation occured in the year {wind_data[index,1][:-2]}')"
   ]
  },
  {
   "cell_type": "code",
   "execution_count": 71,
   "id": "26bc607a-8fe7-4288-b45e-50b8e41f5e96",
   "metadata": {},
   "outputs": [
    {
     "data": {
      "image/png": "[encoded data removed]",
      "text/plain": [
       "<Figure size 1000x600 with 1 Axes>"
      ]
     },
     "metadata": {},
     "output_type": "display_data"
    }
   ],
   "source": [
    "import numpy.polynomial.polynomial as poly\n",
    "\n",
    "x = np.array([int(j[:4]) for j in wind_data[:,1]])\n",
    "y = energy\n",
    "\n",
    "poly_coeff = poly.polyfit(x[-10:], y[-10:], deg=1)\n",
    "fit = poly.polyval(x[-10:], poly_coeff)\n",
    "\n",
    "fig, ax = plt.subplots()\n",
    "ax.plot(x, y, 'ro', label = 'Data')\n",
    "ax.plot(x[-10:], fit, 'b-', label='Linear fit last 10 years')\n",
    "\n",
    "new_point = x[-1] + 1 # one year after the final datapoint\n",
    "fit_new_point = poly.polyval(new_point, poly_coeff)\n",
    "ax.plot(new_point, fit_new_point, 'gs', label=f'Predicted value in {str(new_point)}')\n",
    "\n",
    "# label the axes\n",
    "\n",
    "ax.set_xlabel('Year')\n",
    "ax.set_ylabel('Net electricity generation \\n deom wind (Gwh)')\n",
    "\n",
    "# Add  a legend\n",
    "plt.legend()\n",
    "plt.show()\n",
    "plt.close()\n"
   ]
  },
  {
   "cell_type": "code",
   "execution_count": 72,
   "id": "a6c91826-3073-474f-9249-af0b370eab6d",
   "metadata": {},
   "outputs": [],
   "source": [
    "def index_energy_data(data, startyear, energy_label):\n",
    "    \"\"\"returns a NumPy array containing only rows with the specified energy_label in column 4, \n",
    "    that also contain energy data, and that also contain annual totals after the specified start year \"\"\"\n",
    "    \n",
    "    output = data[((data[:,4] == energy_label))]\n",
    "    output = output[((output[:,2] != 'Not Available'))]\n",
    "    output = output[np.array(([x[-2:] == '13' and int(x[:4]) >= startyear for x in output[:,1]]))]\n",
    "    \n",
    "    energy = output[:,2].astype(float)\n",
    "    dates = np.array([int(j[:4]) for j in output[:,1]])  # Taking the first four digits of each entry in column 1 gives us the year\n",
    "    \n",
    "    return energy, dates"
   ]
  },
  {
   "cell_type": "code",
   "execution_count": 73,
   "id": "46bdac9e-a7ef-459c-8c64-b362bfc210d8",
   "metadata": {},
   "outputs": [],
   "source": [
    "energy_wind, dates = index_energy_data(data, 1984, energy_label = 'Electricity Net Generation From Wind, All Sectors')\n",
    "energy_solar, dates = index_energy_data(data, 1984, energy_label = 'Electricity Net Generation From Solar, All Sectors')\n",
    "energy_total, dates = index_energy_data(data, 1984, energy_label = 'Electricity Net Generation Total (including from sources not shown), All Sectors')"
   ]
  },
  {
   "cell_type": "code",
   "execution_count": 74,
   "id": "4c442d4f-3f0f-40cb-8f2c-711e4e797f48",
   "metadata": {},
   "outputs": [],
   "source": [
    "wind_frac = 100 * energy_wind / energy_total\n",
    "solar_frac = 100 * energy_solar / energy_total\n",
    "combined_frac = 100 * (energy_solar + energy_wind) / energy_total"
   ]
  },
  {
   "cell_type": "code",
   "execution_count": 75,
   "id": "a0faa638-9741-4ab0-b38f-29738d713611",
   "metadata": {},
   "outputs": [
    {
     "data": {
      "image/png": "[encoded data removed]",
      "text/plain": [
       "<Figure size 1000x600 with 1 Axes>"
      ]
     },
     "metadata": {},
     "output_type": "display_data"
    }
   ],
   "source": [
    "# Prepare the plot\n",
    "fig, ax = plt.subplots() # Define a figure and axis on which to plot our data\n",
    "ax.plot(dates, wind_frac, 'ro-', label = 'Wind')\n",
    "ax.plot(dates, solar_frac, 'bo-', label = 'Solar')\n",
    "ax.plot(dates, combined_frac, 'ko-', label = 'Wind + Solar')\n",
    "\n",
    "#Label the axes\n",
    "ax.set_xlabel('Year')\n",
    "ax.set_ylabel('Contribution to total USA \\n electricity generation (%)')\n",
    "\n",
    "#add a legend\n",
    "plt.legend()\n",
    "\n",
    "plt.show()\n",
    "\n",
    "plt.close()"
   ]
  },
  {
   "cell_type": "code",
   "execution_count": null,
   "id": "278fb282-29cd-4eb8-a8b6-e79e4cabe84f",
   "metadata": {},
   "outputs": [],
   "source": []
  }
 ],
 "metadata": {
  "kernelspec": {
   "display_name": "Python 3 (ipykernel)",
   "language": "python",
   "name": "python3"
  },
  "language_info": {
   "codemirror_mode": {
    "name": "ipython",
    "version": 3
   },
   "file_extension": ".py",
   "mimetype": "text/x-python",
   "name": "python",
   "nbconvert_exporter": "python",
   "pygments_lexer": "ipython3",
   "version": "3.11.3"
  }
 },
 "nbformat": 4,
 "nbformat_minor": 5
}
