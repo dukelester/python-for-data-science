{
 "cells": [
  {
   "cell_type": "markdown",
   "id": "d541b22f-fc99-4382-9e39-06ada4814af2",
   "metadata": {},
   "source": [
    "# Welcome to Numpy - Numeric Computing Library in python"
   ]
  },
  {
   "cell_type": "code",
   "execution_count": 1,
   "id": "8ef63238-92ef-4368-85d8-a707985a0ee1",
   "metadata": {
    "editable": true,
    "slideshow": {
     "slide_type": ""
    },
    "tags": []
   },
   "outputs": [
    {
     "name": "stdout",
     "output_type": "stream",
     "text": [
      "Introduction to Numpy and python for data science in general\n"
     ]
    }
   ],
   "source": [
    "print('Introduction to Numpy and python for data science in general')"
   ]
  },
  {
   "cell_type": "code",
   "execution_count": 2,
   "id": "13a0df28-bc5a-4c88-9015-363a39cad883",
   "metadata": {
    "editable": true,
    "slideshow": {
     "slide_type": ""
    },
    "tags": []
   },
   "outputs": [
    {
     "name": "stdout",
     "output_type": "stream",
     "text": [
      "Numpy is a Python Numeric computing library\n"
     ]
    }
   ],
   "source": [
    "print('Numpy is a Python Numeric computing library')\n"
   ]
  },
  {
   "cell_type": "markdown",
   "id": "a09be06e-c4e4-4a62-ab83-e4ab4492a54b",
   "metadata": {},
   "source": [
    "## Install Numpy"
   ]
  },
  {
   "cell_type": "code",
   "execution_count": 3,
   "id": "cbcbaaab-f185-4831-98e1-857822171033",
   "metadata": {},
   "outputs": [
    {
     "name": "stdout",
     "output_type": "stream",
     "text": [
      "Defaulting to user installation because normal site-packages is not writeable\n",
      "Requirement already satisfied: numpy in /home/dukelester/.local/lib/python3.11/site-packages (1.24.3)\n"
     ]
    }
   ],
   "source": [
    "!pip install numpy"
   ]
  },
  {
   "cell_type": "code",
   "execution_count": 4,
   "id": "a9d40c41-dbe3-439b-936d-849189845a2e",
   "metadata": {},
   "outputs": [],
   "source": [
    "import sys\n",
    "import numpy as np"
   ]
  },
  {
   "cell_type": "code",
   "execution_count": 5,
   "id": "b40b9873-a370-4f3a-96d1-9f2b75801644",
   "metadata": {},
   "outputs": [
    {
     "name": "stdout",
     "output_type": "stream",
     "text": [
      "<class 'numpy.ndarray'>\n"
     ]
    }
   ],
   "source": [
    "data = np.array([89, 33, 45, 90])\n",
    "data\n",
    "print(type(data))"
   ]
  },
  {
   "cell_type": "markdown",
   "id": "7c27725a-2091-45bc-86a0-c57827850ade",
   "metadata": {},
   "source": [
    "## umPy arrays\n",
    "\n",
    "The NumPy array - an n-dimensional data structure - is the central object of the NumPy package.\n",
    "A one-dimensional NumPy array can be thought of as a vector, a two-dimensional array as a matrix (i.e., a set of vectors), \n",
    "and a three-dimensional array as a tensor (i.e., a set of matrices).\n",
    "\n",
    "## Array data types\n",
    "An array can consist of integers, floating-point numbers, or strings. Within an array, the data type must be consistent (e.g., all integers or all floats)."
   ]
  },
  {
   "cell_type": "code",
   "execution_count": 6,
   "id": "e1c96136-7b36-4703-ae31-695c8c01c7dd",
   "metadata": {
    "editable": true,
    "slideshow": {
     "slide_type": ""
    },
    "tags": []
   },
   "outputs": [
    {
     "data": {
      "text/plain": [
       "array([[100, 100, 100, 100, 100, 100, 100, 100, 100, 100],\n",
       "       [100, 100, 100, 100, 100, 100, 100, 100, 100, 100],\n",
       "       [100, 100, 100, 100, 100, 100, 100, 100, 100, 100],\n",
       "       [100, 100, 100, 100, 100, 100, 100, 100, 100, 100],\n",
       "       [100, 100, 100, 100, 100, 100, 100, 100, 100, 100]])"
      ]
     },
     "execution_count": 6,
     "metadata": {},
     "output_type": "execute_result"
    }
   ],
   "source": [
    "# Array definition\n",
    "\n",
    "np.array([\n",
    "    [23, 45, 56],\n",
    "    [90, 34, 78]\n",
    "])\n",
    "\n",
    "vector: list = np.arange(1, 5)\n",
    "vector\n",
    "\n",
    "zeros_array = np.zeros((1, 10))\n",
    "zeros_array\n",
    "\n",
    "ones_array = np.ones((2, 10))\n",
    "ones_array\n",
    "\n",
    "full_array = np.full((5, 10), 100)\n",
    "full_array"
   ]
  },
  {
   "cell_type": "code",
   "execution_count": 13,
   "id": "7221b26a-bd99-49a9-abe2-3501f0ae87c1",
   "metadata": {},
   "outputs": [
    {
     "data": {
      "text/plain": [
       "numpy.int8"
      ]
     },
     "execution_count": 13,
     "metadata": {},
     "output_type": "execute_result"
    }
   ],
   "source": [
    "# Shape\n",
    "\n",
    "shape = ones_array.shape\n",
    "shape\n",
    "full_array.dtype.type\n",
    "my_array = np.array([90, 78, 23, 34, 56], dtype='int8')\n",
    "my_array\n",
    "my_array.dtype.type"
   ]
  },
  {
   "cell_type": "code",
   "execution_count": 17,
   "id": "c5a2d689-a5b2-4fa3-99cd-48715e7e727a",
   "metadata": {},
   "outputs": [
    {
     "data": {
      "text/plain": [
       "56"
      ]
     },
     "execution_count": 17,
     "metadata": {},
     "output_type": "execute_result"
    }
   ],
   "source": [
    "# Access the elements from the array\n",
    "my_array[0]\n",
    "my_array[:2]\n",
    "my_array[2:4]\n",
    "my_array[-1]"
   ]
  },
  {
   "cell_type": "code",
   "execution_count": 43,
   "id": "965604b0-4b7a-4514-8499-30893ab35a04",
   "metadata": {},
   "outputs": [
    {
     "name": "stdout",
     "output_type": "stream",
     "text": [
      "data saved as binary\n"
     ]
    }
   ],
   "source": [
    "# Load data\n",
    "import csv\n",
    "\n",
    "data = []\n",
    "with open('Datasets/MER_T07_02A.csv', 'r') as csv_file:\n",
    "    file_reader = csv.reader(csv_file, delimiter=',')\n",
    "    for row in file_reader:\n",
    "        data.append(row)\n",
    "data = np.array(data)\n",
    "data\n",
    "data.shape\n",
    "data.dtype.type\n",
    "\n",
    "np.save(open('Datasets/my_data.npy', 'wb'), data)\n",
    "print('data saved as binary')"
   ]
  },
  {
   "cell_type": "code",
   "execution_count": null,
   "id": "6b409abf-08d7-4443-97c4-0a4dff10fb01",
   "metadata": {},
   "outputs": [],
   "source": []
  }
 ],
 "metadata": {
  "kernelspec": {
   "display_name": "Python 3 (ipykernel)",
   "language": "python",
   "name": "python3"
  },
  "language_info": {
   "codemirror_mode": {
    "name": "ipython",
    "version": 3
   },
   "file_extension": ".py",
   "mimetype": "text/x-python",
   "name": "python",
   "nbconvert_exporter": "python",
   "pygments_lexer": "ipython3",
   "version": "3.11.3"
  }
 },
 "nbformat": 4,
 "nbformat_minor": 5
}
