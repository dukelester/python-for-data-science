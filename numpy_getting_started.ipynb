{
 "cells": [
  {
   "cell_type": "markdown",
   "id": "d541b22f-fc99-4382-9e39-06ada4814af2",
   "metadata": {},
   "source": [
    "# Welcome to Numpy - Numeric Computing Library in python"
   ]
  },
  {
   "cell_type": "code",
   "execution_count": 1,
   "id": "8ef63238-92ef-4368-85d8-a707985a0ee1",
   "metadata": {
    "editable": true,
    "slideshow": {
     "slide_type": ""
    },
    "tags": []
   },
   "outputs": [
    {
     "name": "stdout",
     "output_type": "stream",
     "text": [
      "Introduction to Numpy and python for data science in general\n"
     ]
    }
   ],
   "source": [
    "print('Introduction to Numpy and python for data science in general')"
   ]
  },
  {
   "cell_type": "code",
   "execution_count": 2,
   "id": "13a0df28-bc5a-4c88-9015-363a39cad883",
   "metadata": {
    "editable": true,
    "slideshow": {
     "slide_type": ""
    },
    "tags": []
   },
   "outputs": [
    {
     "name": "stdout",
     "output_type": "stream",
     "text": [
      "Numpy is a Python Numeric computing library\n"
     ]
    }
   ],
   "source": [
    "print('Numpy is a Python Numeric computing library')\n"
   ]
  },
  {
   "cell_type": "markdown",
   "id": "a09be06e-c4e4-4a62-ab83-e4ab4492a54b",
   "metadata": {},
   "source": [
    "## Install Numpy"
   ]
  },
  {
   "cell_type": "code",
   "execution_count": 3,
   "id": "cbcbaaab-f185-4831-98e1-857822171033",
   "metadata": {},
   "outputs": [
    {
     "name": "stdout",
     "output_type": "stream",
     "text": [
      "Defaulting to user installation because normal site-packages is not writeable\n",
      "Requirement already satisfied: numpy in /home/dukelester/.local/lib/python3.11/site-packages (1.24.3)\n"
     ]
    }
   ],
   "source": [
    "!pip install numpy"
   ]
  },
  {
   "cell_type": "code",
   "execution_count": 4,
   "id": "a9d40c41-dbe3-439b-936d-849189845a2e",
   "metadata": {},
   "outputs": [],
   "source": [
    "import sys\n",
    "import numpy as np"
   ]
  },
  {
   "cell_type": "code",
   "execution_count": 5,
   "id": "b40b9873-a370-4f3a-96d1-9f2b75801644",
   "metadata": {},
   "outputs": [
    {
     "name": "stdout",
     "output_type": "stream",
     "text": [
      "<class 'numpy.ndarray'>\n"
     ]
    }
   ],
   "source": [
    "data = np.array([89, 33, 45, 90])\n",
    "data\n",
    "print(type(data))"
   ]
  },
  {
   "cell_type": "markdown",
   "id": "7c27725a-2091-45bc-86a0-c57827850ade",
   "metadata": {},
   "source": [
    "## umPy arrays\n",
    "\n",
    "The NumPy array - an n-dimensional data structure - is the central object of the NumPy package.\n",
    "A one-dimensional NumPy array can be thought of as a vector, a two-dimensional array as a matrix (i.e., a set of vectors), \n",
    "and a three-dimensional array as a tensor (i.e., a set of matrices).\n",
    "\n",
    "## Array data types\n",
    "An array can consist of integers, floating-point numbers, or strings. Within an array, the data type must be consistent (e.g., all integers or all floats)."
   ]
  },
  {
   "cell_type": "code",
   "execution_count": 6,
   "id": "e1c96136-7b36-4703-ae31-695c8c01c7dd",
   "metadata": {
    "editable": true,
    "slideshow": {
     "slide_type": ""
    },
    "tags": []
   },
   "outputs": [
    {
     "data": {
      "text/plain": [
       "array([[100, 100, 100, 100, 100, 100, 100, 100, 100, 100],\n",
       "       [100, 100, 100, 100, 100, 100, 100, 100, 100, 100],\n",
       "       [100, 100, 100, 100, 100, 100, 100, 100, 100, 100],\n",
       "       [100, 100, 100, 100, 100, 100, 100, 100, 100, 100],\n",
       "       [100, 100, 100, 100, 100, 100, 100, 100, 100, 100]])"
      ]
     },
     "execution_count": 6,
     "metadata": {},
     "output_type": "execute_result"
    }
   ],
   "source": [
    "# Array definition\n",
    "\n",
    "np.array([\n",
    "    [23, 45, 56],\n",
    "    [90, 34, 78]\n",
    "])\n",
    "\n",
    "vector: list = np.arange(1, 5)\n",
    "vector\n",
    "\n",
    "zeros_array = np.zeros((1, 10))\n",
    "zeros_array\n",
    "\n",
    "ones_array = np.ones((2, 10))\n",
    "ones_array\n",
    "\n",
    "full_array = np.full((5, 10), 100)\n",
    "full_array"
   ]
  },
  {
   "cell_type": "code",
   "execution_count": 13,
   "id": "7221b26a-bd99-49a9-abe2-3501f0ae87c1",
   "metadata": {},
   "outputs": [
    {
     "data": {
      "text/plain": [
       "numpy.int8"
      ]
     },
     "execution_count": 13,
     "metadata": {},
     "output_type": "execute_result"
    }
   ],
   "source": [
    "# Shape\n",
    "\n",
    "shape = ones_array.shape\n",
    "shape\n",
    "full_array.dtype.type\n",
    "my_array = np.array([90, 78, 23, 34, 56], dtype='int8')\n",
    "my_array\n",
    "my_array.dtype.type"
   ]
  },
  {
   "cell_type": "code",
   "execution_count": 17,
   "id": "c5a2d689-a5b2-4fa3-99cd-48715e7e727a",
   "metadata": {},
   "outputs": [
    {
     "data": {
      "text/plain": [
       "56"
      ]
     },
     "execution_count": 17,
     "metadata": {},
     "output_type": "execute_result"
    }
   ],
   "source": [
    "# Access the elements from the array\n",
    "my_array[0]\n",
    "my_array[:2]\n",
    "my_array[2:4]\n",
    "my_array[-1]"
   ]
  },
  {
   "cell_type": "code",
   "execution_count": 43,
   "id": "965604b0-4b7a-4514-8499-30893ab35a04",
   "metadata": {},
   "outputs": [
    {
     "name": "stdout",
     "output_type": "stream",
     "text": [
      "data saved as binary\n"
     ]
    }
   ],
   "source": [
    "# Load data\n",
    "import csv\n",
    "\n",
    "data = []\n",
    "with open('Datasets/MER_T07_02A.csv', 'r') as csv_file:\n",
    "    file_reader = csv.reader(csv_file, delimiter=',')\n",
    "    for row in file_reader:\n",
    "        data.append(row)\n",
    "data = np.array(data)\n",
    "data\n",
    "data.shape\n",
    "data.dtype.type\n",
    "\n",
    "np.save(open('Datasets/my_data.npy', 'wb'), data)\n",
    "print('data saved as binary')"
   ]
  },
  {
   "cell_type": "code",
   "execution_count": 44,
   "id": "6b409abf-08d7-4443-97c4-0a4dff10fb01",
   "metadata": {},
   "outputs": [
    {
     "data": {
      "text/plain": [
       "array([['MSN', 'YYYYMM', 'Value', 'Column_Order', 'Description', 'Unit'],\n",
       "       ['CLETPUS', '194913', '135451.32', '1',\n",
       "        'Electricity Net Generation From Coal, All Sectors',\n",
       "        'Million Kilowatthours'],\n",
       "       ['CLETPUS', '195013', '154519.994', '1',\n",
       "        'Electricity Net Generation From Coal, All Sectors',\n",
       "        'Million Kilowatthours'],\n",
       "       ['CLETPUS', '195113', '185203.657', '1',\n",
       "        'Electricity Net Generation From Coal, All Sectors',\n",
       "        'Million Kilowatthours'],\n",
       "       ['CLETPUS', '195213', '195436.666', '1',\n",
       "        'Electricity Net Generation From Coal, All Sectors',\n",
       "        'Million Kilowatthours'],\n",
       "       ['CLETPUS', '195313', '218846.325', '1',\n",
       "        'Electricity Net Generation From Coal, All Sectors',\n",
       "        'Million Kilowatthours'],\n",
       "       ['CLETPUS', '195413', '239145.966', '1',\n",
       "        'Electricity Net Generation From Coal, All Sectors',\n",
       "        'Million Kilowatthours'],\n",
       "       ['CLETPUS', '195513', '301362.698', '1',\n",
       "        'Electricity Net Generation From Coal, All Sectors',\n",
       "        'Million Kilowatthours']], dtype='<U80')"
      ]
     },
     "execution_count": 44,
     "metadata": {},
     "output_type": "execute_result"
    }
   ],
   "source": [
    "data[:8]"
   ]
  },
  {
   "cell_type": "code",
   "execution_count": 45,
   "id": "84324ca5-5680-4deb-8b57-4246c6390c32",
   "metadata": {},
   "outputs": [
    {
     "data": {
      "text/plain": [
       "array([['Value', 'Column_Order'],\n",
       "       ['135451.32', '1'],\n",
       "       ['154519.994', '1'],\n",
       "       ...,\n",
       "       ['4243136.159', '13'],\n",
       "       ['347437.124', '13'],\n",
       "       ['310200.688', '13']], dtype='<U80')"
      ]
     },
     "execution_count": 45,
     "metadata": {},
     "output_type": "execute_result"
    }
   ],
   "source": [
    "data[:, 2:4]"
   ]
  },
  {
   "cell_type": "code",
   "execution_count": 47,
   "id": "15cbc6ee-b8dd-4d2c-943f-d8f5b7377854",
   "metadata": {},
   "outputs": [
    {
     "data": {
      "text/plain": [
       "array([['135451.32', '1'],\n",
       "       ['154519.994', '1'],\n",
       "       ['185203.657', '1'],\n",
       "       ['195436.666', '1'],\n",
       "       ['218846.325', '1']], dtype='<U80')"
      ]
     },
     "execution_count": 47,
     "metadata": {},
     "output_type": "execute_result"
    }
   ],
   "source": [
    "subset = data[1:6, [2, 3]]\n",
    "subset"
   ]
  },
  {
   "cell_type": "markdown",
   "id": "00d9b01e-6833-42f4-902d-9e9ec5d245c3",
   "metadata": {},
   "source": [
    "A mask array, also known as a logical array, contains boolean elements (i.e. True or False)."
   ]
  },
  {
   "cell_type": "code",
   "execution_count": 48,
   "id": "768058b5-e079-4d9a-816f-02d6c1019a98",
   "metadata": {},
   "outputs": [
    {
     "data": {
      "text/plain": [
       "array([['154519.994', '1'],\n",
       "       ['195436.666', '1'],\n",
       "       ['218846.325', '1']], dtype='<U80')"
      ]
     },
     "execution_count": 48,
     "metadata": {},
     "output_type": "execute_result"
    }
   ],
   "source": [
    "mask_array = np.array([False, True, False, True, True])\n",
    "subset[mask_array]"
   ]
  },
  {
   "cell_type": "code",
   "execution_count": 50,
   "id": "d10870c6-4568-4f16-875f-6759b3ffb997",
   "metadata": {},
   "outputs": [
    {
     "data": {
      "text/plain": [
       "array([['135451.32', '1'],\n",
       "       ['218846.325', '1']], dtype='<U80')"
      ]
     },
     "execution_count": 50,
     "metadata": {},
     "output_type": "execute_result"
    }
   ],
   "source": [
    "new_mask_array = np.array([True, False, False, False, True])\n",
    "subset[new_mask_array]"
   ]
  },
  {
   "cell_type": "markdown",
   "id": "94f0d2e5-3dbc-4f04-a33f-b7bb4627e9d6",
   "metadata": {},
   "source": [
    "the mask array retained the rows corresponding to True and the excluded the ones corresponding to False. It is worth noting that a similar approach is used for indexing pandas dataframes.\n",
    "\n",
    "Masking is a powerful tool that allows us to index elements based on logical expressions. "
   ]
  },
  {
   "cell_type": "markdown",
   "id": "7fb2aa80-c916-4323-a6ca-2edf29e8fce3",
   "metadata": {},
   "source": [
    "## Concatenating"
   ]
  },
  {
   "cell_type": "code",
   "execution_count": 54,
   "id": "1de677b6-c45d-47c8-8d36-44481a74ce7b",
   "metadata": {},
   "outputs": [
    {
     "data": {
      "text/plain": [
       "array([['MSN', 'YYYYMM', 'Value', 'Column_Order', 'Description', 'Unit'],\n",
       "       ['CLETPUS', '194913', '135451.32', '1',\n",
       "        'Electricity Net Generation From Coal, All Sectors',\n",
       "        'Million Kilowatthours'],\n",
       "       ['CLETPUS', '195013', '154519.994', '1',\n",
       "        'Electricity Net Generation From Coal, All Sectors',\n",
       "        'Million Kilowatthours']], dtype='<U80')"
      ]
     },
     "execution_count": 54,
     "metadata": {},
     "output_type": "execute_result"
    }
   ],
   "source": [
    "start_3_rows_array = data[:3, :]\n",
    "start_3_rows_array"
   ]
  },
  {
   "cell_type": "code",
   "execution_count": 52,
   "id": "eeba362f-4b16-406c-b52d-6cfd25230186",
   "metadata": {},
   "outputs": [
    {
     "data": {
      "text/plain": [
       "array([['ELETPUS', '202213', '4243136.159', '13',\n",
       "        'Electricity Net Generation Total (including from sources not shown), All Sectors',\n",
       "        'Million Kilowatthours'],\n",
       "       ['ELETPUS', '202301', '347437.124', '13',\n",
       "        'Electricity Net Generation Total (including from sources not shown), All Sectors',\n",
       "        'Million Kilowatthours'],\n",
       "       ['ELETPUS', '202302', '310200.688', '13',\n",
       "        'Electricity Net Generation Total (including from sources not shown), All Sectors',\n",
       "        'Million Kilowatthours']], dtype='<U80')"
      ]
     },
     "execution_count": 52,
     "metadata": {},
     "output_type": "execute_result"
    }
   ],
   "source": [
    "end_3_rows_array = data[-3:, :]\n",
    "end_3_rows_array"
   ]
  },
  {
   "cell_type": "markdown",
   "id": "edde7268-fa37-425a-8df6-0ee5575de285",
   "metadata": {},
   "source": [
    "To `concatenate` these arrays we can use `np.vstack`, where the v denotes vertical, or row-wise, stacking of the sub-arrays:\n",
    "The horizontal counterpart of `np.vstack()` is `np.hstack()`, which combines sub-arrays column-wise. For higher dimensional joins, the most common function is `np.concatenate()`. The syntax for this function is similar to the 2D versions, with the additional requirement of specifying the axis along which concatenation should be performed.\n",
    "\n",
    "Calling `np.concatenate((array_start, array_end), axis = 0)` would generate identical output to using `np.vstack()`. Axis=1 would generate identical output to using `np.hstack()`."
   ]
  },
  {
   "cell_type": "code",
   "execution_count": 55,
   "id": "7f897b24-6e23-4c9c-a4e8-6455a400419c",
   "metadata": {},
   "outputs": [
    {
     "data": {
      "text/plain": [
       "array([['MSN', 'YYYYMM', 'Value', 'Column_Order', 'Description', 'Unit'],\n",
       "       ['CLETPUS', '194913', '135451.32', '1',\n",
       "        'Electricity Net Generation From Coal, All Sectors',\n",
       "        'Million Kilowatthours'],\n",
       "       ['CLETPUS', '195013', '154519.994', '1',\n",
       "        'Electricity Net Generation From Coal, All Sectors',\n",
       "        'Million Kilowatthours'],\n",
       "       ['ELETPUS', '202213', '4243136.159', '13',\n",
       "        'Electricity Net Generation Total (including from sources not shown), All Sectors',\n",
       "        'Million Kilowatthours'],\n",
       "       ['ELETPUS', '202301', '347437.124', '13',\n",
       "        'Electricity Net Generation Total (including from sources not shown), All Sectors',\n",
       "        'Million Kilowatthours'],\n",
       "       ['ELETPUS', '202302', '310200.688', '13',\n",
       "        'Electricity Net Generation Total (including from sources not shown), All Sectors',\n",
       "        'Million Kilowatthours']], dtype='<U80')"
      ]
     },
     "execution_count": 55,
     "metadata": {},
     "output_type": "execute_result"
    }
   ],
   "source": [
    "joined = np.vstack((start_3_rows_array, end_3_rows_array))\n",
    "joined"
   ]
  },
  {
   "cell_type": "code",
   "execution_count": 56,
   "id": "39a3fd33-43d7-4b2c-8d3f-1636456ffe5a",
   "metadata": {},
   "outputs": [
    {
     "data": {
      "text/plain": [
       "array([['MSN', 'YYYYMM', 'Value', 'Column_Order', 'Description', 'Unit',\n",
       "        'ELETPUS', '202213', '4243136.159', '13',\n",
       "        'Electricity Net Generation Total (including from sources not shown), All Sectors',\n",
       "        'Million Kilowatthours'],\n",
       "       ['CLETPUS', '194913', '135451.32', '1',\n",
       "        'Electricity Net Generation From Coal, All Sectors',\n",
       "        'Million Kilowatthours', 'ELETPUS', '202301', '347437.124', '13',\n",
       "        'Electricity Net Generation Total (including from sources not shown), All Sectors',\n",
       "        'Million Kilowatthours'],\n",
       "       ['CLETPUS', '195013', '154519.994', '1',\n",
       "        'Electricity Net Generation From Coal, All Sectors',\n",
       "        'Million Kilowatthours', 'ELETPUS', '202302', '310200.688', '13',\n",
       "        'Electricity Net Generation Total (including from sources not shown), All Sectors',\n",
       "        'Million Kilowatthours']], dtype='<U80')"
      ]
     },
     "execution_count": 56,
     "metadata": {},
     "output_type": "execute_result"
    }
   ],
   "source": [
    "joined_colomnwise = np.hstack((start_3_rows_array, end_3_rows_array))\n",
    "joined_colomnwise"
   ]
  },
  {
   "cell_type": "code",
   "execution_count": 57,
   "id": "97a07f3e-944d-4a5a-92f1-363642203fd5",
   "metadata": {},
   "outputs": [
    {
     "data": {
      "text/plain": [
       "array([['MSN', 'YYYYMM', 'Value', 'Column_Order', 'Description', 'Unit'],\n",
       "       ['CLETPUS', '194913', '135451.32', '1',\n",
       "        'Electricity Net Generation From Coal, All Sectors',\n",
       "        'Million Kilowatthours'],\n",
       "       ['CLETPUS', '195013', '154519.994', '1',\n",
       "        'Electricity Net Generation From Coal, All Sectors',\n",
       "        'Million Kilowatthours'],\n",
       "       ['ELETPUS', '202213', '4243136.159', '13',\n",
       "        'Electricity Net Generation Total (including from sources not shown), All Sectors',\n",
       "        'Million Kilowatthours'],\n",
       "       ['ELETPUS', '202301', '347437.124', '13',\n",
       "        'Electricity Net Generation Total (including from sources not shown), All Sectors',\n",
       "        'Million Kilowatthours'],\n",
       "       ['ELETPUS', '202302', '310200.688', '13',\n",
       "        'Electricity Net Generation Total (including from sources not shown), All Sectors',\n",
       "        'Million Kilowatthours']], dtype='<U80')"
      ]
     },
     "execution_count": 57,
     "metadata": {},
     "output_type": "execute_result"
    }
   ],
   "source": [
    "concat_vertical = np.concatenate((start_3_rows_array, end_3_rows_array), axis=0)\n",
    "concat_vertical"
   ]
  },
  {
   "cell_type": "code",
   "execution_count": 58,
   "id": "f57a55ce-6616-44d9-b161-0f4207a3dae0",
   "metadata": {},
   "outputs": [
    {
     "data": {
      "text/plain": [
       "array([['MSN', 'YYYYMM', 'Value', 'Column_Order', 'Description', 'Unit',\n",
       "        'ELETPUS', '202213', '4243136.159', '13',\n",
       "        'Electricity Net Generation Total (including from sources not shown), All Sectors',\n",
       "        'Million Kilowatthours'],\n",
       "       ['CLETPUS', '194913', '135451.32', '1',\n",
       "        'Electricity Net Generation From Coal, All Sectors',\n",
       "        'Million Kilowatthours', 'ELETPUS', '202301', '347437.124', '13',\n",
       "        'Electricity Net Generation Total (including from sources not shown), All Sectors',\n",
       "        'Million Kilowatthours'],\n",
       "       ['CLETPUS', '195013', '154519.994', '1',\n",
       "        'Electricity Net Generation From Coal, All Sectors',\n",
       "        'Million Kilowatthours', 'ELETPUS', '202302', '310200.688', '13',\n",
       "        'Electricity Net Generation Total (including from sources not shown), All Sectors',\n",
       "        'Million Kilowatthours']], dtype='<U80')"
      ]
     },
     "execution_count": 58,
     "metadata": {},
     "output_type": "execute_result"
    }
   ],
   "source": [
    "concat_horizontal = np.concatenate((start_3_rows_array, end_3_rows_array), axis=1)\n",
    "concat_horizontal"
   ]
  },
  {
   "cell_type": "markdown",
   "id": "237ca1cd-2da7-475c-a56d-97d1adfbc4ad",
   "metadata": {},
   "source": [
    "## Splitting\n",
    "\n",
    "The opposite of concatenating (i.e., joining) arrays is splitting them. To split an array, NumPy provides the following commands:\n",
    "\n",
    "hsplit: splits along the horizontal axis\n",
    "vsplit: splits along the vertical axis\n",
    "dsplit: Splits an array along the 3rd axis (depth)\n",
    "array_split: lets you specify the axis to use in splitting"
   ]
  },
  {
   "cell_type": "code",
   "execution_count": 67,
   "id": "63e016cb-3a5d-4215-b2f2-81c3fbf1440e",
   "metadata": {},
   "outputs": [
    {
     "data": {
      "text/plain": [
       "[array([['MSN'],\n",
       "        ['CLETPUS'],\n",
       "        ['CLETPUS'],\n",
       "        ...,\n",
       "        ['ELETPUS'],\n",
       "        ['ELETPUS'],\n",
       "        ['ELETPUS']], dtype='<U80'),\n",
       " array([['YYYYMM', 'Value', 'Column_Order', 'Description', 'Unit'],\n",
       "        ['194913', '135451.32', '1',\n",
       "         'Electricity Net Generation From Coal, All Sectors',\n",
       "         'Million Kilowatthours'],\n",
       "        ['195013', '154519.994', '1',\n",
       "         'Electricity Net Generation From Coal, All Sectors',\n",
       "         'Million Kilowatthours'],\n",
       "        ...,\n",
       "        ['202213', '4243136.159', '13',\n",
       "         'Electricity Net Generation Total (including from sources not shown), All Sectors',\n",
       "         'Million Kilowatthours'],\n",
       "        ['202301', '347437.124', '13',\n",
       "         'Electricity Net Generation Total (including from sources not shown), All Sectors',\n",
       "         'Million Kilowatthours'],\n",
       "        ['202302', '310200.688', '13',\n",
       "         'Electricity Net Generation Total (including from sources not shown), All Sectors',\n",
       "         'Million Kilowatthours']], dtype='<U80'),\n",
       " array([], shape=(8789, 0), dtype='<U80')]"
      ]
     },
     "execution_count": 67,
     "metadata": {},
     "output_type": "execute_result"
    }
   ],
   "source": [
    "h_split = np.hsplit(data, (2, 3))\n",
    "h_split\n",
    "v_split = np.vsplit(data, (1, 4))\n",
    "v_split\n",
    "# d_split = np.dsplit(data, (2, 5))\n",
    "# d_split\n",
    "split_array = np.array_split(data, (1, 6), axis=1)\n",
    "split_array"
   ]
  },
  {
   "cell_type": "markdown",
   "id": "147190ee-e659-44eb-b2fc-3f61c2cfac6a",
   "metadata": {},
   "source": [
    "## Adding/Removing Elements\n",
    "\n",
    "NumPy provides several functions for adding or deleting data from an array:\n",
    "\n",
    "resize: Returns a new array with the specified shape, with zeros as placeholders in all the new cells.\n",
    "append: Adds values to the end of an array\n",
    "insert: Adds values in the middle of an array\n",
    "delete: Returns a new array with given data removed\n",
    "unique: Finds only the unique values of an array\n"
   ]
  },
  {
   "cell_type": "code",
   "execution_count": 80,
   "id": "91231a7a-bd65-4cc4-8fd3-2cb6d8b4bb20",
   "metadata": {},
   "outputs": [
    {
     "data": {
      "text/plain": [
       "array(['1', '135451.32', '154519.994', '185203.657', '195436.666',\n",
       "       '218846.325'], dtype='<U80')"
      ]
     },
     "execution_count": 80,
     "metadata": {},
     "output_type": "execute_result"
    }
   ],
   "source": [
    "resized = np.resize(data, (10, 7090))\n",
    "resized\n",
    "\n",
    "np.append(subset, 'duke lester')\n",
    "np.insert(subset, 2, 'Lester dlester is here')\n",
    "np.delete(subset, 2)\n",
    "np.unique(subset)"
   ]
  },
  {
   "cell_type": "markdown",
   "id": "49b43cd3-7ea7-44d2-9b15-efc6ea175d1a",
   "metadata": {},
   "source": [
    "## Sorting\n",
    "\n",
    "There are several useful functions for sorting array elements. \n",
    "Some of the available sorting algorithms include `quicksort`, `heapsort`, `mergesort`, and `timesort`."
   ]
  },
  {
   "cell_type": "code",
   "execution_count": 88,
   "id": "0bdbcac6-4320-4977-bb2e-26f5c99df6de",
   "metadata": {},
   "outputs": [
    {
     "data": {
      "text/plain": [
       "array([[12, 34, 35, 70, 80, 89],\n",
       "       [23, 34, 36, 67, 90, 98]])"
      ]
     },
     "execution_count": 88,
     "metadata": {},
     "output_type": "execute_result"
    }
   ],
   "source": [
    "marks = np.array([[34, 89, 12, 70, 35, 80], [90, 34, 67, 23, 98, 36]])\n",
    "column_sort = np.sort(marks, axis=1, kind='mergesort') # column sort\n",
    "column_sort\n",
    "np.sort(marks, axis=1, kind='heapsort')\n",
    "np.sort(marks, axis=1, kind='quicksort')"
   ]
  },
  {
   "cell_type": "code",
   "execution_count": 89,
   "id": "4fac6513-8daa-407d-93a9-3463539b26a1",
   "metadata": {},
   "outputs": [
    {
     "data": {
      "text/plain": [
       "array([['MSN', 'YYYYMM', 'Value', 'Column_Order', 'Description', 'Unit'],\n",
       "       ['CLETPUS', '194913', '135451.32', '1',\n",
       "        'Electricity Net Generation From Coal, All Sectors',\n",
       "        'Million Kilowatthours'],\n",
       "       ['CLETPUS', '195013', '154519.994', '1',\n",
       "        'Electricity Net Generation From Coal, All Sectors',\n",
       "        'Million Kilowatthours'],\n",
       "       ...,\n",
       "       ['ELETPUS', '202213', '4243136.159', '13',\n",
       "        'Electricity Net Generation Total (including from sources not shown), All Sectors',\n",
       "        'Million Kilowatthours'],\n",
       "       ['ELETPUS', '202301', '347437.124', '13',\n",
       "        'Electricity Net Generation Total (including from sources not shown), All Sectors',\n",
       "        'Million Kilowatthours'],\n",
       "       ['ELETPUS', '202302', '310200.688', '13',\n",
       "        'Electricity Net Generation Total (including from sources not shown), All Sectors',\n",
       "        'Million Kilowatthours']], dtype='<U80')"
      ]
     },
     "execution_count": 89,
     "metadata": {},
     "output_type": "execute_result"
    }
   ],
   "source": [
    "# copy\n",
    "\n",
    "my_data = np.copy(data)\n",
    "my_data"
   ]
  },
  {
   "cell_type": "markdown",
   "id": "58286f7a-549c-40a2-abc1-0c6c497205d4",
   "metadata": {},
   "source": [
    "## Array Broadcasting \n",
    "\n",
    "=> Array operations and calculations (inner product, scalar addition, subtraction, divisiom an multiplication)\n"
   ]
  },
  {
   "cell_type": "code",
   "execution_count": 96,
   "id": "4d3cf499-c0ff-4ca2-9c48-76fb63ff3cc9",
   "metadata": {},
   "outputs": [
    {
     "data": {
      "text/plain": [
       "array([[1156, 7921,  144, 4900, 1225, 6400],\n",
       "       [8100, 1156, 4489,  529, 9604, 1296]])"
      ]
     },
     "execution_count": 96,
     "metadata": {},
     "output_type": "execute_result"
    }
   ],
   "source": [
    "# Broadcasting => Array operations and calculations (inner product, scalar addition, subtraction, divisiom an multiplication)\n",
    "\n",
    "marks + 30 - 10\n",
    "marks * 3\n",
    "marks / 2\n",
    "marks + marks\n",
    "marks * marks"
   ]
  },
  {
   "cell_type": "markdown",
   "id": "19f09642-7e0c-4605-8a5d-c4d3a1cca930",
   "metadata": {},
   "source": [
    "## Vectorization\n",
    "Vectorization is the process of modifying code to utilize array operation methods. Array operations can be computed internally by NumPy using a lower-level language, which leads to many benefits:\n",
    "\n",
    "1. Vectorized code tends to execute much faster than equivalent code that uses loops (such as for-loops and while-loops). Usually a lot faster. Therefore, vectorization can be very important for machine learning, where we often work with large datasets\n",
    "2. Vectorized code can often be more compact. Having fewer lines of code to write can potentially speed-up the code-writing process, make code more readable, and reduce the risk of errors"
   ]
  },
  {
   "cell_type": "code",
   "execution_count": 106,
   "id": "2e87c0e3-78a4-4cb6-82cc-006e0360c0c9",
   "metadata": {},
   "outputs": [
    {
     "name": "stdout",
     "output_type": "stream",
     "text": [
      "my first array is [ 1  2  3  4  5  6  7  8  9 10 11 12 13 14 15 16 17 18 19 20 21 22 23 24\n",
      " 25 26 27 28 29 30 31 32 33 34 35 36 37 38 39 40 41 42 43 44 45 46 47 48\n",
      " 49 50]\n",
      "my second array is [  1   2   3   4   5   6   7   8   9  10  11  12  13  14  15  16  17  18\n",
      "  19  20  21  22  23  24  25  26  27  28  29  30  31  32  33  34  35  36\n",
      "  37  38  39  40  41  42  43  44  45  46  47  48  49  50  51  52  53  54\n",
      "  55  56  57  58  59  60  61  62  63  64  65  66  67  68  69  70  71  72\n",
      "  73  74  75  76  77  78  79  80  81  82  83  84  85  86  87  88  89  90\n",
      "  91  92  93  94  95  96  97  98  99 100]\n"
     ]
    }
   ],
   "source": [
    "# Example\n",
    "arr1 = np.arange(1, 51)\n",
    "arr2 = np.arange(1, 101)\n",
    "print(f'my first array is {arr1}')\n",
    "print(f'my second array is {arr2}')"
   ]
  },
  {
   "cell_type": "code",
   "execution_count": 107,
   "id": "33a47064-5535-4bb6-bf77-8621c16f4c8f",
   "metadata": {},
   "outputs": [],
   "source": [
    "def non_vectorized_output(array1, array2):\n",
    "    output = []\n",
    "    for i in range(len(array1)):\n",
    "        output.append(array1[i] * array2[i])\n",
    "    return output\n"
   ]
  },
  {
   "cell_type": "code",
   "execution_count": 108,
   "id": "4d814d70-87b0-4018-8ac8-73a4c2d0a23d",
   "metadata": {},
   "outputs": [
    {
     "name": "stdout",
     "output_type": "stream",
     "text": [
      "[1, 4, 9, 16, 25, 36, 49, 64, 81, 100, 121, 144, 169, 196, 225, 256, 289, 324, 361, 400, 441, 484, 529, 576, 625, 676, 729, 784, 841, 900, 961, 1024, 1089, 1156, 1225, 1296, 1369, 1444, 1521, 1600, 1681, 1764, 1849, 1936, 2025, 2116, 2209, 2304, 2401, 2500]\n"
     ]
    }
   ],
   "source": [
    "print(non_vectorized_output(arr1, arr2))"
   ]
  },
  {
   "cell_type": "code",
   "execution_count": 110,
   "id": "1c7c4e5b-9159-401c-9581-c9f19b67eec3",
   "metadata": {},
   "outputs": [
    {
     "name": "stdout",
     "output_type": "stream",
     "text": [
      "17.2 µs ± 635 ns per loop (mean ± std. dev. of 7 runs, 100,000 loops each)\n"
     ]
    },
    {
     "data": {
      "text/plain": [
       "<TimeitResult : 17.2 µs ± 635 ns per loop (mean ± std. dev. of 7 runs, 100,000 loops each)>"
      ]
     },
     "execution_count": 110,
     "metadata": {},
     "output_type": "execute_result"
    }
   ],
   "source": [
    "nv_time = %timeit -o  non_vectorized_output(arr1, arr2)\n",
    "nv_time"
   ]
  },
  {
   "cell_type": "code",
   "execution_count": null,
   "id": "6e8aa992-73bf-4155-b7d2-9765c3368218",
   "metadata": {},
   "outputs": [],
   "source": []
  }
 ],
 "metadata": {
  "kernelspec": {
   "display_name": "Python 3 (ipykernel)",
   "language": "python",
   "name": "python3"
  },
  "language_info": {
   "codemirror_mode": {
    "name": "ipython",
    "version": 3
   },
   "file_extension": ".py",
   "mimetype": "text/x-python",
   "name": "python",
   "nbconvert_exporter": "python",
   "pygments_lexer": "ipython3",
   "version": "3.11.3"
  }
 },
 "nbformat": 4,
 "nbformat_minor": 5
}
